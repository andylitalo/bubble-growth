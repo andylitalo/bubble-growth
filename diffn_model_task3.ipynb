{
 "cells": [
  {
   "cell_type": "markdown",
   "metadata": {},
   "source": [
    "# Diffusion Model: Task 3\n",
    "\n",
    "This notebook includes work performed on task 3 of the project to model diffusion from the inner stream into the bubble.\n",
    "\n",
    "In task 2, I developed a numerical model of diffusion of carbon dioxide from a bulk fluid reservoir of infinite extent into a spherical bubble with a concentration diffusivity of carbon dioxide through the fluid and estimated the uncertainty in the model due to uncertainty in experimental measurements of the diffusivity as a function of concentration with G-ADSA at the Di Maio lab in 2019. Now, I will relax the second of the two assumptions of the Epstein-Plesset model,\n",
    "\n",
    "1. a constant diffusivity of carbon dioxide in polyol with respect to carbon dioxide concentration.\n",
    "2. **a constant carbon dioxide concentration in an infinite bulk.**\n",
    "\n",
    "Here, we set an initial condition with the saturation concentration of CO2 in the inner stream and no CO2 in the outer stream at the inlet. We allow the CO2 to diffuse into the outer stream as it flows down the channel until reaching the desired nucleation time. At that point, we simultaneously grow the bubble based on the concentration gradient calculated at the bubble surface.\n",
    "\n",
    "**Challenges**:\n",
    "1. How do we shift the concentration profile in the fluid as the bubble grows? Should the bubble “consume” the fluid? Should the concentration profile be shifted outward? Should the concentration profile be “squeezed” in between the bubble and the capillary wall?\n",
    "2. How do we account for different concentration profiles in the axial and radial directions?\n",
    "3. How do we account for elongation of the bubble?\n",
    "\n",
    "**Goals**: \n",
    "\n",
    "1. Demonstrate agreement of concentration-dependent model developed with the concentration-independent model from task 1 when the model for concentration dependence of diffusivity is constant.\n",
    "2. Estimate the uncertainty in the diffusivity as a function of concentration of carbon dioxide due to experimental uncertainty \n",
    "3. Speed up computation time"
   ]
  },
  {
   "cell_type": "markdown",
   "metadata": {},
   "source": [
    "## Setup\n",
    "\n",
    "### Import Libraries"
   ]
  },
  {
   "cell_type": "code",
   "execution_count": 1,
   "metadata": {},
   "outputs": [],
   "source": [
    "# adds custom libraries to path\n",
    "import sys\n",
    "sys.path.append('src/')\n",
    "sys.path.append('../libs/')\n",
    "\n",
    "# imports standard libraries\n",
    "import numpy as np\n",
    "import matplotlib.pyplot as plt\n",
    "import pandas as pd\n",
    "\n",
    "# imports custom libraries\n",
    "import polyco2\n",
    "import diffn\n",
    "import flow\n",
    "import bubble\n",
    "import bubbleflow\n",
    "import analytics as an\n",
    "import finitediff as fd\n",
    "\n",
    "# plotting\n",
    "import plot.diffn as pltd\n",
    "import plot.bubble as pltb\n",
    "import plot.genl as pltg\n",
    "\n",
    "# CONVERSIONS\n",
    "from conversions import *\n",
    "# CONSTANTS\n",
    "from constants import *\n",
    "\n",
    "from importlib import reload"
   ]
  },
  {
   "cell_type": "markdown",
   "metadata": {},
   "source": [
    "### Declare Model Parameters"
   ]
  },
  {
   "cell_type": "code",
   "execution_count": 5,
   "metadata": {},
   "outputs": [],
   "source": [
    "# flow parameters for experiments in 20200905_80bar folder\n",
    "# viscosity of inner and outer streams [Pa.s]\n",
    "eta_i = 0.25 # rough estimate of VORANOL 360 + CO2 dissolved so should be lower\n",
    "eta_o = 4.815\n",
    "# length of observation capillary [m]\n",
    "L = 10E-2\n",
    "# outer stream radius [m]\n",
    "R_o = 150E-6\n",
    "Q_o = 200 # outer stream flow rate, input to ISCO 260 D [uL/min]\n",
    "# inner stream flow rate [uL/min]\n",
    "Q_i = 100\n",
    "# saturation pressure [Pa]\n",
    "p_s = 80E5\n",
    "# distance down capillary at which measurements were taken in videos of effect of flow rate on 20200905_80bar [m]\n",
    "d = 0.096\n",
    "\n",
    "# bubble growth model parameters\n",
    "dt = 1E-12 # [s]\n",
    "R_nuc = 5E-6 # [m] arbitrary bubble size for comparing models\n",
    "\n",
    "# grid parameters\n",
    "R_max = 150E-6 # outer radius [m]\n",
    "\n",
    "# diffusion model parameters \n",
    "dc_c_s_frac = 0.01 # step size in concentration for estimating dD/dc as a fraction of saturation concentration\n",
    "\n",
    "# load data (interfacial tension, solubility, and diffusivity) for polyols? we don't have data for VORANOL 360...use 1k3f\n",
    "polyol_data_file = 'input/1k3f_22c.csv'\n",
    "\n",
    "# equation of state data\n",
    "eos_co2_file = 'input/eos_co2_22-0C.csv'\n",
    "\n",
    "# plot parameters\n",
    "t_fs = 18\n",
    "ax_fs = 16\n",
    "tk_fs = 14\n",
    "l_fs = 12"
   ]
  },
  {
   "cell_type": "markdown",
   "metadata": {},
   "source": [
    "### Calculate Flow Parameters"
   ]
  },
  {
   "cell_type": "code",
   "execution_count": 3,
   "metadata": {},
   "outputs": [],
   "source": [
    "# computes inner stream radius [m] and velocity [m/s]\n",
    "dp, R_i, v = flow.get_dp_R_i_v_max(eta_i, eta_o, L, Q_i*uLmin_2_m3s, Q_o*uLmin_2_m3s, R_o, SI=True)\n",
    "# inlet pressure [Pa]\n",
    "p_in = P_ATM - dp\n",
    "# nucleation time [s]\n",
    "t_nuc = d/v"
   ]
  },
  {
   "cell_type": "markdown",
   "metadata": {},
   "source": [
    "### Compute Epstein-Plesset Result as a Benchmark"
   ]
  },
  {
   "cell_type": "code",
   "execution_count": 4,
   "metadata": {},
   "outputs": [
    {
     "name": "stderr",
     "output_type": "stream",
     "text": [
      "C:\\Users\\andyl\\OneDrive - California Institute of Technology\\Documents\\Research\\Kornfield\\ANALYSIS\\bubble-growth\\bubble.py:204: RuntimeWarning: divide by zero encountered in true_divide\n",
      "  1/np.sqrt(np.pi*D*(np.asarray(t))))\n"
     ]
    }
   ],
   "source": [
    "# collects relevant parameters\n",
    "eps_params = (dt, p_s, R_nuc, L, p_in, v, polyol_data_file, eos_co2_file)\n",
    "\n",
    "# Epstein-Plesset solution for comparison\n",
    "t_eps, m, D, p, p_bub, if_tension, c_s, c_bulk, R_eps, rho_co2 = bubble.grow(t_nuc, *eps_params)\n",
    "props_list_eps = (R_eps, m, p, p_bub, rho_co2, if_tension)\n",
    "\n",
    "# uses 2nd-order Taylor stencil to compute concentration gradient at the surface of the bubble\n",
    "dcdr_eps = bubble.calc_dcdr_eps(c_bulk, c_s, R_eps, D, np.asarray(t_eps) - t_nuc)"
   ]
  },
  {
   "cell_type": "markdown",
   "metadata": {},
   "source": [
    "### Load Bubble Data\n",
    "\n",
    "Loads data measured from a bubble recorded in the video `v360_co2_c5_11184...mp4` from October 10, 2020, analyzed in `20201010_v360_co2_c5_11184...ipynb`."
   ]
  },
  {
   "cell_type": "code",
   "execution_count": null,
   "metadata": {},
   "outputs": [],
   "source": [
    "# frame rate [fps]\n",
    "fps = 11184\n",
    "\n",
    "# initial and final frames with bubbles (inclusive)\n",
    "f_i = 9510\n",
    "f_f = 9527\n",
    "R_bubble = 8.5E-6 # bubble radius in first frame [m]\n",
    "x_bubble = d # distance traveled along channel [m]\n",
    "t_bubble = x_bubble / v # time bubble had traveled down channel [s]\n",
    "\n",
    "# additional bubbles\n",
    "f_bubbles = [i for i in range(f_i+1, f_f+1)]\n",
    "R_bubbles = np.asarray([8.8, 8.8, 9, 9.8, 9.65, 10, 9.65, 10.15, 10.3, 10.3, 10.5, 11.15, 11.25, \n",
    "                      11.8, 11.55, 12.15, 12.8])/m_2_um\n",
    "t_bubbles = np.asarray([t_bubble + (f - f_i)/fps for f in f_bubbles])"
   ]
  },
  {
   "cell_type": "markdown",
   "metadata": {},
   "source": [
    "## Analysis\n",
    "\n",
    "### Incompressible Outer Stream, Expanding Capillary\n",
    "\n",
    "In this first version, we assume that the fluid around the bubble is incompressible and shifts outward as the bubble grows, and is accommodated by an expanding capillary inner wall."
   ]
  },
  {
   "cell_type": "code",
   "execution_count": 10,
   "metadata": {},
   "outputs": [
    {
     "name": "stdout",
     "output_type": "stream",
     "text": [
      "0% complete, t = 0.000 ms.\n",
      "10% complete, t = 30.868 ms.\n",
      "20% complete, t = 59.362 ms.\n",
      "30% complete, t = 87.856 ms.\n",
      "40% complete, t = 118.724 ms.\n",
      "50% complete, t = 147.217 ms.\n",
      "60% complete, t = 175.711 ms.\n",
      "70% complete, t = 204.205 ms.\n",
      "80% complete, t = 235.073 ms.\n",
      "90% complete, t = 263.567 ms.\n",
      "halving grid\n",
      "halving grid\n"
     ]
    },
    {
     "ename": "KeyboardInterrupt",
     "evalue": "",
     "output_type": "error",
     "traceback": [
      "\u001b[1;31m---------------------------------------------------------------------------\u001b[0m",
      "\u001b[1;31mKeyboardInterrupt\u001b[0m                         Traceback (most recent call last)",
      "\u001b[1;32m<ipython-input-10-ebbca470b5ff>\u001b[0m in \u001b[0;36m<module>\u001b[1;34m\u001b[0m\n\u001b[0;32m     11\u001b[0m \u001b[0mt_flow\u001b[0m\u001b[1;33m,\u001b[0m \u001b[0mc\u001b[0m\u001b[1;33m,\u001b[0m \u001b[0mt_num\u001b[0m\u001b[1;33m,\u001b[0m \u001b[0mm\u001b[0m\u001b[1;33m,\u001b[0m \u001b[0mD\u001b[0m\u001b[1;33m,\u001b[0m \u001b[0mp\u001b[0m\u001b[1;33m,\u001b[0m \u001b[0mp_bub\u001b[0m\u001b[1;33m,\u001b[0m \u001b[0mif_tension\u001b[0m\u001b[1;33m,\u001b[0m\u001b[0;31m \u001b[0m\u001b[0;31m\\\u001b[0m\u001b[1;33m\u001b[0m\u001b[1;33m\u001b[0m\u001b[0m\n\u001b[0;32m     12\u001b[0m c_bub, c_bulk, R, rho_co2, v, dr_list = bubbleflow.sheath_incompressible(t_nuc, eps_params, R_max, N0, dc_c_s_frac, R_i,\n\u001b[1;32m---> 13\u001b[1;33m                                                                          dt_sheath, half_grid=half_grid, D_fn=D_fn)\n\u001b[0m",
      "\u001b[1;32m~\\OneDrive - California Institute of Technology\\Documents\\Research\\Kornfield\\ANALYSIS\\bubble-growth\\bubbleflow.py\u001b[0m in \u001b[0;36msheath_incompressible\u001b[1;34m(t_nuc, eps_params, R_max, N, dc_c_s_frac, R_i, dt_sheath, D_fn, half_grid, pts_per_grad, adaptive_dt, if_tension_model, implicit, d_tolman, tol_R, alpha, D, t_i, R_min, dcdt_fn, time_step_fn)\u001b[0m\n\u001b[0;32m    523\u001b[0m         \u001b[1;31m# interface\u001b[0m\u001b[1;33m\u001b[0m\u001b[1;33m\u001b[0m\u001b[1;33m\u001b[0m\u001b[0m\n\u001b[0;32m    524\u001b[0m         \u001b[0mfixed_params_flow\u001b[0m \u001b[1;33m=\u001b[0m \u001b[1;33m(\u001b[0m\u001b[0mR\u001b[0m\u001b[1;33m[\u001b[0m\u001b[1;33m-\u001b[0m\u001b[1;36m1\u001b[0m\u001b[1;33m]\u001b[0m\u001b[1;33m,\u001b[0m \u001b[0mdc\u001b[0m\u001b[1;33m,\u001b[0m \u001b[0mD_fn\u001b[0m\u001b[1;33m)\u001b[0m\u001b[1;33m\u001b[0m\u001b[1;33m\u001b[0m\u001b[0m\n\u001b[1;32m--> 525\u001b[1;33m         props_flow = diffn.time_step(dt, t_flow[-1], r_arr, c[-1], dcdt_fn,\n\u001b[0m\u001b[0;32m    526\u001b[0m                         bc_specs_list, fixed_params_flow)\n\u001b[0;32m    527\u001b[0m         \u001b[1;31m# stores properties at new time step in lists\u001b[0m\u001b[1;33m\u001b[0m\u001b[1;33m\u001b[0m\u001b[1;33m\u001b[0m\u001b[0m\n",
      "\u001b[1;32m~\\OneDrive - California Institute of Technology\\Documents\\Research\\Kornfield\\ANALYSIS\\bubble-growth\\diffn.py\u001b[0m in \u001b[0;36mtime_step\u001b[1;34m(dt, t_prev, r_arr, c_prev, dcdt_fn, bc_specs_list, fixed_params, apply_bc_first)\u001b[0m\n\u001b[0;32m    611\u001b[0m \u001b[1;33m\u001b[0m\u001b[0m\n\u001b[0;32m    612\u001b[0m     \u001b[1;31m# updates concentration with explicit Euler method\u001b[0m\u001b[1;33m\u001b[0m\u001b[1;33m\u001b[0m\u001b[1;33m\u001b[0m\u001b[0m\n\u001b[1;32m--> 613\u001b[1;33m     \u001b[0mc_curr_arr\u001b[0m \u001b[1;33m=\u001b[0m \u001b[0mc_prev_arr\u001b[0m\u001b[1;33m[\u001b[0m\u001b[1;36m1\u001b[0m\u001b[1;33m:\u001b[0m\u001b[1;33m-\u001b[0m\u001b[1;36m1\u001b[0m\u001b[1;33m]\u001b[0m \u001b[1;33m+\u001b[0m \u001b[0mdt\u001b[0m\u001b[1;33m*\u001b[0m\u001b[0mdcdt_fn\u001b[0m\u001b[1;33m(\u001b[0m\u001b[0mr_arr\u001b[0m\u001b[1;33m,\u001b[0m \u001b[0mc_prev_arr\u001b[0m\u001b[1;33m,\u001b[0m \u001b[0mfixed_params\u001b[0m\u001b[1;33m)\u001b[0m\u001b[1;33m\u001b[0m\u001b[1;33m\u001b[0m\u001b[0m\n\u001b[0m\u001b[0;32m    614\u001b[0m     \u001b[1;31m# adds end points for the application of the boundary conditions\u001b[0m\u001b[1;33m\u001b[0m\u001b[1;33m\u001b[0m\u001b[1;33m\u001b[0m\u001b[0m\n\u001b[0;32m    615\u001b[0m     \u001b[0mc_curr\u001b[0m \u001b[1;33m=\u001b[0m \u001b[1;33m[\u001b[0m\u001b[1;36m0\u001b[0m\u001b[1;33m]\u001b[0m \u001b[1;33m+\u001b[0m \u001b[0mlist\u001b[0m\u001b[1;33m(\u001b[0m\u001b[0mc_curr_arr\u001b[0m\u001b[1;33m)\u001b[0m \u001b[1;33m+\u001b[0m \u001b[1;33m[\u001b[0m\u001b[1;36m0\u001b[0m\u001b[1;33m]\u001b[0m\u001b[1;33m\u001b[0m\u001b[1;33m\u001b[0m\u001b[0m\n",
      "\u001b[1;32m~\\OneDrive - California Institute of Technology\\Documents\\Research\\Kornfield\\ANALYSIS\\bubble-growth\\diffn.py\u001b[0m in \u001b[0;36mcalc_dcdt_sph_vary_D\u001b[1;34m(xi_arr, c_arr, fixed_params)\u001b[0m\n\u001b[0;32m    297\u001b[0m     \u001b[1;31m# computes dD/dc [m^2/s / kg/m^3]\u001b[0m\u001b[1;33m\u001b[0m\u001b[1;33m\u001b[0m\u001b[1;33m\u001b[0m\u001b[0m\n\u001b[0;32m    298\u001b[0m     dDdc_arr = np.asarray([polyco2.calc_dDdc_fn(c, dc, D_fn) \\\n\u001b[1;32m--> 299\u001b[1;33m                                                     for c in c_arr_c])\n\u001b[0m\u001b[0;32m    300\u001b[0m     \u001b[0mterm2\u001b[0m \u001b[1;33m=\u001b[0m \u001b[0mdDdc_arr\u001b[0m \u001b[1;33m*\u001b[0m \u001b[1;33m(\u001b[0m\u001b[0mdcdr_arr\u001b[0m\u001b[1;33m)\u001b[0m\u001b[1;33m**\u001b[0m\u001b[1;36m2\u001b[0m\u001b[1;33m\u001b[0m\u001b[1;33m\u001b[0m\u001b[0m\n\u001b[0;32m    301\u001b[0m \u001b[1;33m\u001b[0m\u001b[0m\n",
      "\u001b[1;32m~\\OneDrive - California Institute of Technology\\Documents\\Research\\Kornfield\\ANALYSIS\\bubble-growth\\diffn.py\u001b[0m in \u001b[0;36m<listcomp>\u001b[1;34m(.0)\u001b[0m\n\u001b[0;32m    297\u001b[0m     \u001b[1;31m# computes dD/dc [m^2/s / kg/m^3]\u001b[0m\u001b[1;33m\u001b[0m\u001b[1;33m\u001b[0m\u001b[1;33m\u001b[0m\u001b[0m\n\u001b[0;32m    298\u001b[0m     dDdc_arr = np.asarray([polyco2.calc_dDdc_fn(c, dc, D_fn) \\\n\u001b[1;32m--> 299\u001b[1;33m                                                     for c in c_arr_c])\n\u001b[0m\u001b[0;32m    300\u001b[0m     \u001b[0mterm2\u001b[0m \u001b[1;33m=\u001b[0m \u001b[0mdDdc_arr\u001b[0m \u001b[1;33m*\u001b[0m \u001b[1;33m(\u001b[0m\u001b[0mdcdr_arr\u001b[0m\u001b[1;33m)\u001b[0m\u001b[1;33m**\u001b[0m\u001b[1;36m2\u001b[0m\u001b[1;33m\u001b[0m\u001b[1;33m\u001b[0m\u001b[0m\n\u001b[0;32m    301\u001b[0m \u001b[1;33m\u001b[0m\u001b[0m\n",
      "\u001b[1;32m~\\OneDrive - California Institute of Technology\\Documents\\Research\\Kornfield\\ANALYSIS\\libs\\polyco2.py\u001b[0m in \u001b[0;36mcalc_dDdc_fn\u001b[1;34m(c, dc, D_fn)\u001b[0m\n\u001b[0;32m    238\u001b[0m     \u001b[1;31m# computes diffusivity at given concentration and one step size away [m^2/s]\u001b[0m\u001b[1;33m\u001b[0m\u001b[1;33m\u001b[0m\u001b[1;33m\u001b[0m\u001b[0m\n\u001b[0;32m    239\u001b[0m     \u001b[0mD1\u001b[0m \u001b[1;33m=\u001b[0m \u001b[0mD_fn\u001b[0m\u001b[1;33m(\u001b[0m\u001b[0mc\u001b[0m\u001b[1;33m)\u001b[0m\u001b[1;33m\u001b[0m\u001b[1;33m\u001b[0m\u001b[0m\n\u001b[1;32m--> 240\u001b[1;33m     \u001b[0mD2\u001b[0m \u001b[1;33m=\u001b[0m \u001b[0mD_fn\u001b[0m\u001b[1;33m(\u001b[0m\u001b[0mc\u001b[0m \u001b[1;33m+\u001b[0m \u001b[0mdc\u001b[0m\u001b[1;33m)\u001b[0m\u001b[1;33m\u001b[0m\u001b[1;33m\u001b[0m\u001b[0m\n\u001b[0m\u001b[0;32m    241\u001b[0m     \u001b[1;31m# computes dD/dc using forward difference formula [m^2/s / kg/m^3]\u001b[0m\u001b[1;33m\u001b[0m\u001b[1;33m\u001b[0m\u001b[1;33m\u001b[0m\u001b[0m\n\u001b[0;32m    242\u001b[0m     \u001b[0mdDdc\u001b[0m \u001b[1;33m=\u001b[0m \u001b[1;33m(\u001b[0m\u001b[0mD2\u001b[0m \u001b[1;33m-\u001b[0m \u001b[0mD1\u001b[0m\u001b[1;33m)\u001b[0m \u001b[1;33m/\u001b[0m \u001b[0mdc\u001b[0m\u001b[1;33m\u001b[0m\u001b[1;33m\u001b[0m\u001b[0m\n",
      "\u001b[1;32m~\\OneDrive - California Institute of Technology\\Documents\\Research\\Kornfield\\ANALYSIS\\bubble-growth\\diffn.py\u001b[0m in \u001b[0;36mD_p\u001b[1;34m(c)\u001b[0m\n\u001b[0;32m    389\u001b[0m     \u001b[1;33m(\u001b[0m\u001b[0msee\u001b[0m \u001b[1;36m20201124_1\u001b[0m\u001b[0mk3f_D_vs_rho_co2\u001b[0m\u001b[1;33m.\u001b[0m\u001b[0mipynb\u001b[0m\u001b[1;33m)\u001b[0m\u001b[1;33m.\u001b[0m\u001b[1;33m\u001b[0m\u001b[1;33m\u001b[0m\u001b[0m\n\u001b[0;32m    390\u001b[0m     \"\"\"\n\u001b[1;32m--> 391\u001b[1;33m     \u001b[1;32mreturn\u001b[0m \u001b[0mD_of_c\u001b[0m\u001b[1;33m(\u001b[0m\u001b[0mc\u001b[0m\u001b[1;33m,\u001b[0m \u001b[1;34m'p'\u001b[0m\u001b[1;33m)\u001b[0m\u001b[1;33m\u001b[0m\u001b[1;33m\u001b[0m\u001b[0m\n\u001b[0m\u001b[0;32m    392\u001b[0m \u001b[1;33m\u001b[0m\u001b[0m\n\u001b[0;32m    393\u001b[0m \u001b[1;32mdef\u001b[0m \u001b[0mD_dp\u001b[0m\u001b[1;33m(\u001b[0m\u001b[0mc\u001b[0m\u001b[1;33m)\u001b[0m\u001b[1;33m:\u001b[0m\u001b[1;33m\u001b[0m\u001b[1;33m\u001b[0m\u001b[0m\n",
      "\u001b[1;32m~\\OneDrive - California Institute of Technology\\Documents\\Research\\Kornfield\\ANALYSIS\\bubble-growth\\diffn.py\u001b[0m in \u001b[0;36mD_of_c\u001b[1;34m(c, p_or_dp, filepath_D_c)\u001b[0m\n\u001b[0;32m    379\u001b[0m     \u001b[1;33m(\u001b[0m\u001b[0msee\u001b[0m \u001b[1;36m20201124_1\u001b[0m\u001b[0mk3f_D_vs_rho_co2\u001b[0m\u001b[1;33m.\u001b[0m\u001b[0mipynb\u001b[0m\u001b[1;33m)\u001b[0m\u001b[1;33m.\u001b[0m\u001b[1;33m\u001b[0m\u001b[1;33m\u001b[0m\u001b[0m\n\u001b[0;32m    380\u001b[0m     \"\"\"\n\u001b[1;32m--> 381\u001b[1;33m     \u001b[0mdf_D\u001b[0m \u001b[1;33m=\u001b[0m \u001b[0mpd\u001b[0m\u001b[1;33m.\u001b[0m\u001b[0mread_csv\u001b[0m\u001b[1;33m(\u001b[0m\u001b[0mfilepath_D_c\u001b[0m\u001b[1;33m)\u001b[0m\u001b[1;33m\u001b[0m\u001b[1;33m\u001b[0m\u001b[0m\n\u001b[0m\u001b[0;32m    382\u001b[0m     \u001b[0mD0\u001b[0m\u001b[1;33m,\u001b[0m \u001b[0mA\u001b[0m\u001b[1;33m,\u001b[0m \u001b[0mk\u001b[0m \u001b[1;33m=\u001b[0m \u001b[0mdf_D\u001b[0m\u001b[1;33m[\u001b[0m\u001b[0mp_or_dp\u001b[0m\u001b[1;33m]\u001b[0m\u001b[1;33m\u001b[0m\u001b[1;33m\u001b[0m\u001b[0m\n\u001b[0;32m    383\u001b[0m \u001b[1;33m\u001b[0m\u001b[0m\n",
      "\u001b[1;32m~\\anaconda3\\envs\\py36\\lib\\site-packages\\pandas\\io\\parsers.py\u001b[0m in \u001b[0;36mparser_f\u001b[1;34m(filepath_or_buffer, sep, delimiter, header, names, index_col, usecols, squeeze, prefix, mangle_dupe_cols, dtype, engine, converters, true_values, false_values, skipinitialspace, skiprows, skipfooter, nrows, na_values, keep_default_na, na_filter, verbose, skip_blank_lines, parse_dates, infer_datetime_format, keep_date_col, date_parser, dayfirst, cache_dates, iterator, chunksize, compression, thousands, decimal, lineterminator, quotechar, quoting, doublequote, escapechar, comment, encoding, dialect, error_bad_lines, warn_bad_lines, delim_whitespace, low_memory, memory_map, float_precision)\u001b[0m\n\u001b[0;32m    674\u001b[0m         )\n\u001b[0;32m    675\u001b[0m \u001b[1;33m\u001b[0m\u001b[0m\n\u001b[1;32m--> 676\u001b[1;33m         \u001b[1;32mreturn\u001b[0m \u001b[0m_read\u001b[0m\u001b[1;33m(\u001b[0m\u001b[0mfilepath_or_buffer\u001b[0m\u001b[1;33m,\u001b[0m \u001b[0mkwds\u001b[0m\u001b[1;33m)\u001b[0m\u001b[1;33m\u001b[0m\u001b[1;33m\u001b[0m\u001b[0m\n\u001b[0m\u001b[0;32m    677\u001b[0m \u001b[1;33m\u001b[0m\u001b[0m\n\u001b[0;32m    678\u001b[0m     \u001b[0mparser_f\u001b[0m\u001b[1;33m.\u001b[0m\u001b[0m__name__\u001b[0m \u001b[1;33m=\u001b[0m \u001b[0mname\u001b[0m\u001b[1;33m\u001b[0m\u001b[1;33m\u001b[0m\u001b[0m\n",
      "\u001b[1;32m~\\anaconda3\\envs\\py36\\lib\\site-packages\\pandas\\io\\parsers.py\u001b[0m in \u001b[0;36m_read\u001b[1;34m(filepath_or_buffer, kwds)\u001b[0m\n\u001b[0;32m    446\u001b[0m \u001b[1;33m\u001b[0m\u001b[0m\n\u001b[0;32m    447\u001b[0m     \u001b[1;31m# Create the parser.\u001b[0m\u001b[1;33m\u001b[0m\u001b[1;33m\u001b[0m\u001b[1;33m\u001b[0m\u001b[0m\n\u001b[1;32m--> 448\u001b[1;33m     \u001b[0mparser\u001b[0m \u001b[1;33m=\u001b[0m \u001b[0mTextFileReader\u001b[0m\u001b[1;33m(\u001b[0m\u001b[0mfp_or_buf\u001b[0m\u001b[1;33m,\u001b[0m \u001b[1;33m**\u001b[0m\u001b[0mkwds\u001b[0m\u001b[1;33m)\u001b[0m\u001b[1;33m\u001b[0m\u001b[1;33m\u001b[0m\u001b[0m\n\u001b[0m\u001b[0;32m    449\u001b[0m \u001b[1;33m\u001b[0m\u001b[0m\n\u001b[0;32m    450\u001b[0m     \u001b[1;32mif\u001b[0m \u001b[0mchunksize\u001b[0m \u001b[1;32mor\u001b[0m \u001b[0miterator\u001b[0m\u001b[1;33m:\u001b[0m\u001b[1;33m\u001b[0m\u001b[1;33m\u001b[0m\u001b[0m\n",
      "\u001b[1;32m~\\anaconda3\\envs\\py36\\lib\\site-packages\\pandas\\io\\parsers.py\u001b[0m in \u001b[0;36m__init__\u001b[1;34m(self, f, engine, **kwds)\u001b[0m\n\u001b[0;32m    878\u001b[0m             \u001b[0mself\u001b[0m\u001b[1;33m.\u001b[0m\u001b[0moptions\u001b[0m\u001b[1;33m[\u001b[0m\u001b[1;34m\"has_index_names\"\u001b[0m\u001b[1;33m]\u001b[0m \u001b[1;33m=\u001b[0m \u001b[0mkwds\u001b[0m\u001b[1;33m[\u001b[0m\u001b[1;34m\"has_index_names\"\u001b[0m\u001b[1;33m]\u001b[0m\u001b[1;33m\u001b[0m\u001b[1;33m\u001b[0m\u001b[0m\n\u001b[0;32m    879\u001b[0m \u001b[1;33m\u001b[0m\u001b[0m\n\u001b[1;32m--> 880\u001b[1;33m         \u001b[0mself\u001b[0m\u001b[1;33m.\u001b[0m\u001b[0m_make_engine\u001b[0m\u001b[1;33m(\u001b[0m\u001b[0mself\u001b[0m\u001b[1;33m.\u001b[0m\u001b[0mengine\u001b[0m\u001b[1;33m)\u001b[0m\u001b[1;33m\u001b[0m\u001b[1;33m\u001b[0m\u001b[0m\n\u001b[0m\u001b[0;32m    881\u001b[0m \u001b[1;33m\u001b[0m\u001b[0m\n\u001b[0;32m    882\u001b[0m     \u001b[1;32mdef\u001b[0m \u001b[0mclose\u001b[0m\u001b[1;33m(\u001b[0m\u001b[0mself\u001b[0m\u001b[1;33m)\u001b[0m\u001b[1;33m:\u001b[0m\u001b[1;33m\u001b[0m\u001b[1;33m\u001b[0m\u001b[0m\n",
      "\u001b[1;32m~\\anaconda3\\envs\\py36\\lib\\site-packages\\pandas\\io\\parsers.py\u001b[0m in \u001b[0;36m_make_engine\u001b[1;34m(self, engine)\u001b[0m\n\u001b[0;32m   1112\u001b[0m     \u001b[1;32mdef\u001b[0m \u001b[0m_make_engine\u001b[0m\u001b[1;33m(\u001b[0m\u001b[0mself\u001b[0m\u001b[1;33m,\u001b[0m \u001b[0mengine\u001b[0m\u001b[1;33m=\u001b[0m\u001b[1;34m\"c\"\u001b[0m\u001b[1;33m)\u001b[0m\u001b[1;33m:\u001b[0m\u001b[1;33m\u001b[0m\u001b[1;33m\u001b[0m\u001b[0m\n\u001b[0;32m   1113\u001b[0m         \u001b[1;32mif\u001b[0m \u001b[0mengine\u001b[0m \u001b[1;33m==\u001b[0m \u001b[1;34m\"c\"\u001b[0m\u001b[1;33m:\u001b[0m\u001b[1;33m\u001b[0m\u001b[1;33m\u001b[0m\u001b[0m\n\u001b[1;32m-> 1114\u001b[1;33m             \u001b[0mself\u001b[0m\u001b[1;33m.\u001b[0m\u001b[0m_engine\u001b[0m \u001b[1;33m=\u001b[0m \u001b[0mCParserWrapper\u001b[0m\u001b[1;33m(\u001b[0m\u001b[0mself\u001b[0m\u001b[1;33m.\u001b[0m\u001b[0mf\u001b[0m\u001b[1;33m,\u001b[0m \u001b[1;33m**\u001b[0m\u001b[0mself\u001b[0m\u001b[1;33m.\u001b[0m\u001b[0moptions\u001b[0m\u001b[1;33m)\u001b[0m\u001b[1;33m\u001b[0m\u001b[1;33m\u001b[0m\u001b[0m\n\u001b[0m\u001b[0;32m   1115\u001b[0m         \u001b[1;32melse\u001b[0m\u001b[1;33m:\u001b[0m\u001b[1;33m\u001b[0m\u001b[1;33m\u001b[0m\u001b[0m\n\u001b[0;32m   1116\u001b[0m             \u001b[1;32mif\u001b[0m \u001b[0mengine\u001b[0m \u001b[1;33m==\u001b[0m \u001b[1;34m\"python\"\u001b[0m\u001b[1;33m:\u001b[0m\u001b[1;33m\u001b[0m\u001b[1;33m\u001b[0m\u001b[0m\n",
      "\u001b[1;32m~\\anaconda3\\envs\\py36\\lib\\site-packages\\pandas\\io\\parsers.py\u001b[0m in \u001b[0;36m__init__\u001b[1;34m(self, src, **kwds)\u001b[0m\n\u001b[0;32m   1889\u001b[0m         \u001b[0mkwds\u001b[0m\u001b[1;33m[\u001b[0m\u001b[1;34m\"usecols\"\u001b[0m\u001b[1;33m]\u001b[0m \u001b[1;33m=\u001b[0m \u001b[0mself\u001b[0m\u001b[1;33m.\u001b[0m\u001b[0musecols\u001b[0m\u001b[1;33m\u001b[0m\u001b[1;33m\u001b[0m\u001b[0m\n\u001b[0;32m   1890\u001b[0m \u001b[1;33m\u001b[0m\u001b[0m\n\u001b[1;32m-> 1891\u001b[1;33m         \u001b[0mself\u001b[0m\u001b[1;33m.\u001b[0m\u001b[0m_reader\u001b[0m \u001b[1;33m=\u001b[0m \u001b[0mparsers\u001b[0m\u001b[1;33m.\u001b[0m\u001b[0mTextReader\u001b[0m\u001b[1;33m(\u001b[0m\u001b[0msrc\u001b[0m\u001b[1;33m,\u001b[0m \u001b[1;33m**\u001b[0m\u001b[0mkwds\u001b[0m\u001b[1;33m)\u001b[0m\u001b[1;33m\u001b[0m\u001b[1;33m\u001b[0m\u001b[0m\n\u001b[0m\u001b[0;32m   1892\u001b[0m         \u001b[0mself\u001b[0m\u001b[1;33m.\u001b[0m\u001b[0munnamed_cols\u001b[0m \u001b[1;33m=\u001b[0m \u001b[0mself\u001b[0m\u001b[1;33m.\u001b[0m\u001b[0m_reader\u001b[0m\u001b[1;33m.\u001b[0m\u001b[0munnamed_cols\u001b[0m\u001b[1;33m\u001b[0m\u001b[1;33m\u001b[0m\u001b[0m\n\u001b[0;32m   1893\u001b[0m \u001b[1;33m\u001b[0m\u001b[0m\n",
      "\u001b[1;31mKeyboardInterrupt\u001b[0m: "
     ]
    }
   ],
   "source": [
    "reload(bubbleflow)\n",
    "# simulation parameters\n",
    "R_i = 40E-6\n",
    "N0 = 50\n",
    "D_max = diffn.D_p(500) # [m^2/s]\n",
    "dt_sheath = 0.5*(R_max/N0)**2/D_max\n",
    "half_grid = True\n",
    "D_fn = diffn.D_p\n",
    "\n",
    "# performs simulation\n",
    "t_flow, c, t_num, m, D, p, p_bub, if_tension, \\\n",
    "c_bub, c_bulk, R, rho_co2, v, dr_list = bubbleflow.sheath_incompressible(t_nuc, eps_params, R_max, N0, dc_c_s_frac, R_i,\n",
    "                                                                         dt_sheath, half_grid=half_grid, D_fn=D_fn)"
   ]
  },
  {
   "cell_type": "markdown",
   "metadata": {},
   "source": [
    "#### Plot Results"
   ]
  },
  {
   "cell_type": "code",
   "execution_count": null,
   "metadata": {},
   "outputs": [],
   "source": [
    "r_arr_list = [diffn.make_r_arr_lin(dr, R_max) for dr in dr_list]\n",
    "n_plot = 50\n",
    "ax1, ax2 = plot_bubble_sheath(R, m, p, p_bub, rho_co2, if_tension, t_num, t_nuc, t_flow, \n",
    "                              r_arr_list, c, R_max, v, c_bulk, n_plot, R_i=R_i)"
   ]
  },
  {
   "cell_type": "markdown",
   "metadata": {},
   "source": [
    "### Fit to Bubble Growth\n",
    "\n",
    "Now that I have coupled the inner and outer solutions, I will try to fit the result to our bubble growth profile."
   ]
  },
  {
   "cell_type": "code",
   "execution_count": null,
   "metadata": {},
   "outputs": [],
   "source": [
    "# fits results to bubble growth model\n",
    "growth_fn = bubbleflow.sheath_incompressible\n",
    "i_t = 2 # t_bub to match R\n",
    "i_R = 10\n",
    "sigma_R = 0.03 # tolerance of error in radius\n",
    "# groups arguments for growth model\n",
    "N = 200\n",
    "D_max = 3E-9 # [m^2/s]\n",
    "dt_sheath = 0.5*(R_max/N)**2/D_max\n",
    "args = [eps_params, R_max, N, dc_c_s_frac, R_i, dt_sheath, D_p]\n",
    "i_t_nuc = 0\n",
    "\n",
    "# increases maximum iterations\n",
    "max_iter = 15\n",
    "\n",
    "# bounds on nucleation time\n",
    "t_nuc_lo = 0.26 # [s]\n",
    "t_nuc_hi = 0.28 # [s]\n",
    "\n",
    "# opens figure to show results of different guesses for bubble nucleation time\n",
    "fig = plt.figure()\n",
    "ax = fig.add_subplot(111)\n",
    "\n",
    "# uses modified shooting method to estimate the nucleation time\n",
    "t_nuc, output = an.fit_growth_to_pt(t_bubble, R_bubble, t_nuc_lo, t_nuc_hi, growth_fn, args,\n",
    "                     i_t_nuc, sigma_R=sigma_R, ax=ax, max_iter=max_iter, i_t=i_t, i_R=i_R)\n",
    "\n",
    "# unpacks output\n",
    "t_flow, c, t_bub, m, D, p, p_bub, if_tension, c_bub, c_bulk, R, \\\n",
    "            rho_co2, v, dr_list = output\n",
    "# groups results for plotting\n",
    "props_list_fit = (R, m, p, p_bub, rho_co2, if_tension)"
   ]
  },
  {
   "cell_type": "markdown",
   "metadata": {},
   "source": [
    "#### Plots Results"
   ]
  },
  {
   "cell_type": "code",
   "execution_count": null,
   "metadata": {},
   "outputs": [],
   "source": [
    "reload(pltb)\n",
    "# log time axis\n",
    "x_lim = [0.00000005, 4]\n",
    "y_lim = [0.001, 300]\n",
    "x_log = True\n",
    "title = 'Linear model for D(c) (pressurization curve)'\n",
    "ax = pltb.all_props(t_bub, t_nuc, props_list_fit, x_log=x_log, x_lim=x_lim, y_lim=y_lim, title=title)\n",
    "ax = pltb.measured(ax, t_nuc, t_bubble, t_bubbles, R_bubble, R_bubbles, t_R=(t_bub, props_list_fit[0]))\n",
    "ax = pltb.d_infl(ax, t_bub, t_nuc, props_list_fit, c_s[0])\n",
    "pltg.legend(ax)\n",
    "\n",
    "# linear time axis\n",
    "x_lim = [0.0, 4]\n",
    "y_lim = [1, 50]\n",
    "x_log = False\n",
    "ax = pltb.all_props(t_bub, t_nuc, props_list_fit, x_log=x_log, x_lim=x_lim, y_lim=y_lim, title=title)\n",
    "ax = pltb.measured(ax, t_nuc, t_bubble, t_bubbles, R_bubble, R_bubbles)\n",
    "ax = pltb.d_infl(ax, t_bub, t_nuc, props_list_fit, c_s[0])\n",
    "\n",
    "pltg.legend(ax)"
   ]
  },
  {
   "cell_type": "code",
   "execution_count": null,
   "metadata": {},
   "outputs": [],
   "source": []
  }
 ],
 "metadata": {
  "kernelspec": {
   "display_name": "Python 3",
   "language": "python",
   "name": "python3"
  },
  "language_info": {
   "codemirror_mode": {
    "name": "ipython",
    "version": 3
   },
   "file_extension": ".py",
   "mimetype": "text/x-python",
   "name": "python",
   "nbconvert_exporter": "python",
   "pygments_lexer": "ipython3",
   "version": "3.6.10"
  }
 },
 "nbformat": 4,
 "nbformat_minor": 4
}
