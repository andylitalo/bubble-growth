{
 "cells": [
  {
   "cell_type": "markdown",
   "metadata": {},
   "source": [
    "# Diffusion Model: Task 2\n",
    "\n",
    "This notebook includes work performed on task 2 of the project to model diffusion from the inner stream into the bubble.\n",
    "\n",
    "In task 1, I developed a fully numerical model to calculate the system modeled by the Epstein-Plesset model and demonstrated reasonable agreement. Now, I will relax the first of the two assumptions of the Epstein-Plesset model,\n",
    "\n",
    "**1. a constant diffusivity of carbon dioxide in polyol with respect to carbon dioxide concentration**\n",
    "2. a constant carbon dioxide concentration in an infinite bulk. \n",
    "\n",
    "Here, we develop a model that incorporates the effect of concentration on the diffusivity. This means that the diffusivity will vary over both time and space. We use measurements using gravimmetry-axisymmetric drop-shape analysis (G-ADSA) performed in the Di Maio lab during the summer of 2019 for the diffusivity as a function of concentration $D(c)$.\n",
    "\n",
    "**Goals**: \n",
    "\n",
    "1. Demonstrate agreement of concentration-dependent model developed with the concentration-independent model from task 1 when the model for concentration dependence of diffusivity is constant.\n",
    "2. Estimate the uncertainty in the diffusivity as a function of concentration of carbon dioxide due to experimental uncertainty \n",
    "3. Speed up computation time"
   ]
  },
  {
   "cell_type": "markdown",
   "metadata": {},
   "source": [
    "## Setup\n",
    "\n",
    "### Import Libraries"
   ]
  },
  {
   "cell_type": "code",
   "execution_count": 2,
   "metadata": {},
   "outputs": [],
   "source": [
    "# adds custom libraries to path\n",
    "import sys\n",
    "sys.path.append('../libs/')\n",
    "\n",
    "# imports standard libraries\n",
    "import numpy as np\n",
    "import matplotlib.pyplot as plt\n",
    "import pandas as pd\n",
    "\n",
    "# imports custom libraries\n",
    "import polyco2\n",
    "import diffn\n",
    "import flow\n",
    "import bubble\n",
    "import bubbleflow\n",
    "import analytics as an\n",
    "import finitediff as fd\n",
    "\n",
    "# plotting\n",
    "import plot.diffn as pltd\n",
    "import plot.bubble as pltb\n",
    "import plot.genl as pltg\n",
    "\n",
    "# CONVERSIONS\n",
    "from conversions import *\n",
    "# CONSTANTS\n",
    "from constants import *\n",
    "\n",
    "from importlib import reload"
   ]
  },
  {
   "cell_type": "markdown",
   "metadata": {},
   "source": [
    "### Declare Model Parameters"
   ]
  },
  {
   "cell_type": "code",
   "execution_count": 3,
   "metadata": {},
   "outputs": [],
   "source": [
    "# flow parameters for experiments in 20200905_80bar folder\n",
    "# viscosity of inner and outer streams [Pa.s]\n",
    "eta_i = 0.25 # rough estimate of VORANOL 360 + CO2 dissolved so should be lower\n",
    "eta_o = 4.815\n",
    "# length of observation capillary [m]\n",
    "L = 10E-2\n",
    "# outer stream radius [m]\n",
    "R_o = 150E-6\n",
    "Q_o = 200 # outer stream flow rate, input to ISCO 260 D [uL/min]\n",
    "# inner stream flow rate [uL/min]\n",
    "Q_i = 100\n",
    "# saturation pressure [Pa]\n",
    "p_s = 80E5\n",
    "# distance down capillary at which measurements were taken in videos of effect of flow rate on 20200905_80bar [m]\n",
    "d = 0.096\n",
    "\n",
    "# bubble growth model parameters\n",
    "dt = 1E-12 # [s]\n",
    "R_nuc = 5E-6 # [m] arbitrary bubble size for comparing models\n",
    "\n",
    "# grid parameters\n",
    "R_max = 100E-6 # outer radius [m]\n",
    "\n",
    "# diffusion model parameters \n",
    "dc_c_s_frac = 0.01 # step size in concentration for estimating dD/dc as a fraction of saturation concentration\n",
    "\n",
    "# load data (interfacial tension, solubility, and diffusivity) for polyols? we don't have data for VORANOL 360...use 1k3f\n",
    "polyol_data_file = '1k3f_22c.csv'\n",
    "\n",
    "# equation of state data\n",
    "eos_co2_file = 'eos_co2_22-0C.csv'\n",
    "\n",
    "# plot parameters\n",
    "t_fs = 18\n",
    "ax_fs = 16\n",
    "tk_fs = 14\n",
    "l_fs = 12"
   ]
  },
  {
   "cell_type": "markdown",
   "metadata": {},
   "source": [
    "### Calculate Flow Parameters"
   ]
  },
  {
   "cell_type": "code",
   "execution_count": 4,
   "metadata": {},
   "outputs": [],
   "source": [
    "# computes inner stream radius [m] and velocity [m/s]\n",
    "dp, R_i, v = flow.get_dp_R_i_v_max(eta_i, eta_o, L, Q_i*uLmin_2_m3s, Q_o*uLmin_2_m3s, R_o, SI=True)\n",
    "# inlet pressure [Pa]\n",
    "p_in = P_ATM - dp\n",
    "# nucleation time [s]\n",
    "t_nuc = d/v"
   ]
  },
  {
   "cell_type": "markdown",
   "metadata": {},
   "source": [
    "### Compute Epstein-Plesset Result as a Benchmark"
   ]
  },
  {
   "cell_type": "code",
   "execution_count": 5,
   "metadata": {},
   "outputs": [
    {
     "name": "stderr",
     "output_type": "stream",
     "text": [
      "C:\\Users\\andyl\\OneDrive - California Institute of Technology\\Documents\\Research\\Kornfield\\ANALYSIS\\bubble-growth\\bubble.py:231: RuntimeWarning: divide by zero encountered in true_divide\n",
      "  1/np.sqrt(np.pi*D*(np.asarray(t))))\n"
     ]
    }
   ],
   "source": [
    "# collects relevant parameters\n",
    "eps_params = (dt, p_s, R_nuc, L, p_in, v, polyol_data_file, eos_co2_file)\n",
    "\n",
    "# Epstein-Plesset solution for comparison\n",
    "t_eps, m, D, p, p_bub, if_tension, c_s, c_bulk, R_eps, rho_co2 = bubble.grow(t_nuc, *eps_params)\n",
    "props_list_eps = (R_eps, m, p, p_bub, rho_co2, if_tension)\n",
    "\n",
    "# uses 2nd-order Taylor stencil to compute concentration gradient at the surface of the bubble\n",
    "dcdr_eps = bubble.calc_dcdr_eps(c_bulk, c_s, R_eps, D, np.asarray(t_eps) - t_nuc)"
   ]
  },
  {
   "cell_type": "markdown",
   "metadata": {},
   "source": [
    "## Analysis"
   ]
  },
  {
   "cell_type": "code",
   "execution_count": 6,
   "metadata": {},
   "outputs": [],
   "source": [
    "N = 100\n",
    "dt = 1E-12 # [s]\n",
    "dr = R_max/N # [m]\n",
    "D_max = 3E-9\n",
    "dt_max = 0.5*(dr**2/D_max) # keeps time step below half of diffusion time scale\n",
    "\n",
    "t_flow1, c1, t_num1, m1, D, p1, p_bub1, if_tension1, \\\n",
    "c_bub, c_bulk, R1, rho_co21, v, dr_list = bubbleflow.num_fix_D(t_nuc, eps_params, R_max, N, dt_max=dt_max)"
   ]
  },
  {
   "cell_type": "code",
   "execution_count": 8,
   "metadata": {},
   "outputs": [],
   "source": [
    "t_flow2, c2, t_num2, m2, D, p2, p_bub2, if_tension2, \\\n",
    "c_bub, c_bulk, R2, rho_co22, v, dr_list = bubbleflow.num_vary_D(t_nuc, eps_params, R_max, N, dc_c_s_frac, D_fn=diffn.fixed_D)"
   ]
  },
  {
   "cell_type": "markdown",
   "metadata": {},
   "source": [
    "### Plot Results"
   ]
  },
  {
   "cell_type": "code",
   "execution_count": 11,
   "metadata": {
    "scrolled": true
   },
   "outputs": [
    {
     "name": "stderr",
     "output_type": "stream",
     "text": [
      "../libs\\plot\\bubble.py:39: UserWarning: Data has no positive values, and therefore cannot be log-scaled.\n",
      "  ax.set_yscale('log')\n"
     ]
    },
    {
     "data": {
      "text/plain": [
       "(0.0, 1e-06)"
      ]
     },
     "execution_count": 11,
     "metadata": {},
     "output_type": "execute_result"
    },
    {
     "data": {
      "image/png": "[encoded data removed]",
      "text/plain": [
       "<Figure size 432x288 with 1 Axes>"
      ]
     },
     "metadata": {
      "needs_background": "light"
     },
     "output_type": "display_data"
    }
   ],
   "source": [
    "props_list_diff = [np.abs(np.asarray(props_list2[i]) - np.asarray(props_list1[i])) for i in range(len(props_list1))]\n",
    "ax = pltb.all_props(t_num1, t_nuc, props_list_diff, x_log=True, title='Difference')\n",
    "ax.set_yscale('linear')\n",
    "ax.set_ylim([0, 1E-6])"
   ]
  },
  {
   "cell_type": "markdown",
   "metadata": {},
   "source": [
    "We see no difference between the two models. Thus, we can use `num_vary_D()` to perform computations with a fixed diffusivity by passing in a function for diffusivity that is constant."
   ]
  },
  {
   "cell_type": "markdown",
   "metadata": {},
   "source": [
    "### Evaluating Models of Concentration Dependence\n",
    "\n",
    "Having checked that my new function works, I now want to evaluate the effect of using different models for the concentration dependence.\n",
    "\n",
    "The first comparison I want to make is between the predictions using the pressurization vs. the depressurization data for $D(c)$. As seen in the plot below, the estimates of the diffusivity during depressurization were higher, likely because (1) the concentration starts high and goes low during depressurization, and the diffusivity does the same, so the average diffusivity is slightly higher than the final value, whereas the opposite is true during pressurization and (2) the depressurization was performed over greater pressure steps, so the diffusion was farther from Fickian (though not dramatically so).\n",
    "\n",
    "<div>\n",
    "    <img src=\"figures/1k3f_30c_D_sqrt.png\" alt=\"Drawing\" style=\"width: 400px;\"/>\n",
    "</div>\n",
    "\n",
    "The second comparison I want to make is between different models of $D(c)$. I am so far considering a power law and a linear model. I may just compare power law fits to the pressurization and depressurization data.\n",
    "\n",
    "The models used from fitting the data are saved in `g-adsa_results/D_c_power_law.csv`. The computations to achieve the fit are documented in `20201124_1k3f_D_vs_rho_co2.ipynb`."
   ]
  },
  {
   "cell_type": "code",
   "execution_count": 48,
   "metadata": {},
   "outputs": [],
   "source": [
    "# fixed inputs\n",
    "N = 3200\n",
    "half_grid = True\n",
    "dt_max = 0.5*(R_max/N)**2/D_max\n",
    "\n",
    "\n",
    "# varied inputs\n",
    "D_fn_ = [diffn.D_p, diffn.D_dp]\n",
    "\n",
    "# collects bubble-growth functions\n",
    "num_fn_list = [bubbleflow.num_vary_D] * len(D_fn_)\n",
    "# groups inputs for each function\n",
    "num_input_list = [(t_nuc, eps_params, R_max, N, dc_c_s_frac, dt_max, D_fn_[i], half_grid) for i in range(len(D_fn_))]"
   ]
  },
  {
   "cell_type": "code",
   "execution_count": 49,
   "metadata": {
    "scrolled": true
   },
   "outputs": [
    {
     "name": "stdout",
     "output_type": "stream",
     "text": [
      "Computing <function num_vary_D at 0x000001270B4EC8C8>\n",
      "halving grid\n",
      "halving grid\n",
      "1252574967.2790403\n",
      "3.1249999999999997e-07\n",
      "391.5354203877062\n",
      "halving grid\n",
      "halving grid\n",
      "627428021.6840571\n",
      "6.249999999999999e-07\n",
      "392.2487631898141\n",
      "halving grid\n",
      "halving grid\n",
      "316225350.5054664\n",
      "1.2499999999999999e-06\n",
      "395.33780344549814\n",
      "Computing <function num_vary_D at 0x000001270B4EC8C8>\n",
      "halving grid\n",
      "halving grid\n",
      "1252225970.8750818\n",
      "3.1249999999999997e-07\n",
      "391.47530949500145\n",
      "halving grid\n",
      "halving grid\n",
      "627040635.1419424\n",
      "6.249999999999999e-07\n",
      "391.99953900195743\n",
      "halving grid\n",
      "halving grid\n",
      "315392162.6993656\n",
      "1.2499999999999999e-06\n",
      "394.25169021280556\n"
     ]
    }
   ],
   "source": [
    "R_diff_list, dr_list_list, raw_vals_list = an.compare_R(num_input_list, num_fn_list, t_eps, R_eps)"
   ]
  },
  {
   "cell_type": "markdown",
   "metadata": {},
   "source": [
    "#### Plot Results"
   ]
  },
  {
   "cell_type": "code",
   "execution_count": 52,
   "metadata": {},
   "outputs": [
    {
     "data": {
      "text/plain": [
       "<matplotlib.legend.Legend at 0x1271067a0b8>"
      ]
     },
     "execution_count": 52,
     "metadata": {},
     "output_type": "execute_result"
    },
    {
     "data": {
      "image/png": "[encoded data removed]",
      "text/plain": [
       "<Figure size 432x288 with 1 Axes>"
      ]
     },
     "metadata": {
      "needs_background": "light"
     },
     "output_type": "display_data"
    }
   ],
   "source": [
    "filepath_D_c='../g-adsa_results/D_c_power_law.csv'\n",
    "df_D = pd.read_csv(filepath_D_c)\n",
    "D0, A_p, k_p = df_D['p']\n",
    "D0, A_dp, k_dp = df_D['dp']\n",
    "\n",
    "label_list = ['D(c) = {0:.2g} + {1:.2g}*c^{2:.2f} (p)'.format(D0, A_p, k_p),\n",
    "              'D(c) = {0:.2g} + {1:.2g}*c^{2:.2f} (dp)'.format(D0, A_dp, k_dp)]\n",
    "\n",
    "fig = plt.figure()\n",
    "ax = fig.add_subplot(111)\n",
    "\n",
    "for raw_vals, label in zip(raw_vals_list, label_list):\n",
    "    _, _, t, R = raw_vals\n",
    "    ax.plot(s_2_ms*(np.asarray(t) - t[0]), m_2_um*np.asarray(R), label=label)\n",
    "    \n",
    "ax.set_xscale('log')\n",
    "ax.set_yscale('log')\n",
    "ax.set_xlabel(r'$t$ [ms]', fontsize=ax_fs)\n",
    "ax.set_ylabel(r'$R$ [$\\mu$m]', fontsize=ax_fs)\n",
    "ax.set_title('N = 3200, compare D(c) models', fontsize=t_fs)\n",
    "ax.tick_params('both', labelsize=tk_fs)\n",
    "ax.legend(fontsize=l_fs)"
   ]
  },
  {
   "cell_type": "markdown",
   "metadata": {},
   "source": [
    "The difference is not negligible, but it might be small enough that downstream results are not affected qualitatively. I will plot the fractional difference between the predictions below."
   ]
  },
  {
   "cell_type": "code",
   "execution_count": 54,
   "metadata": {},
   "outputs": [
    {
     "name": "stdout",
     "output_type": "stream",
     "text": [
      "0.20955840136367584\n"
     ]
    },
    {
     "data": {
      "image/png": "[encoded data removed]",
      "text/plain": [
       "<Figure size 432x288 with 1 Axes>"
      ]
     },
     "metadata": {
      "needs_background": "light"
     },
     "output_type": "display_data"
    }
   ],
   "source": [
    "raw_vals_p, raw_vals_dp = raw_vals_list\n",
    "\n",
    "_, _, t_p, R_p = raw_vals_p\n",
    "_, _, t_dp, R_dp = raw_vals_dp\n",
    "\n",
    "R_p_interp = np.interp(t_dp, t_p, R_p)\n",
    "R_dp = np.asarray(R_dp)\n",
    "\n",
    "R_frac_diff = np.abs(R_p_interp - R_dp) / R_dp\n",
    "\n",
    "fig = plt.figure()\n",
    "ax = fig.add_subplot(111)\n",
    "\n",
    "ax.plot(s_2_ms*(np.asarray(t_dp) - t_dp[0]), R_frac_diff)\n",
    "\n",
    "ax.set_xscale('log')\n",
    "ax.set_yscale('log')\n",
    "ax.set_xlabel(r'$t$ [ms]', fontsize=ax_fs)\n",
    "ax.set_ylabel(r'$\\Delta R / R_{dp}$', fontsize=ax_fs)\n",
    "ax.set_title('N = 3200, compare D(c) models\\nPressurized vs. Depressurized Data', fontsize=t_fs)\n",
    "ax.tick_params('both', labelsize=tk_fs)\n",
    "ax.set_ylim([1E-6, 1])\n",
    "\n",
    "print(np.max(R_frac_diff))"
   ]
  },
  {
   "cell_type": "markdown",
   "metadata": {},
   "source": [
    "The difference peaks around 20% about 0.1 ms after bubble nucleation. The discrepancy is certainly not negligible, but might not be so large that it affects our conclusions in later analysis."
   ]
  },
  {
   "cell_type": "markdown",
   "metadata": {},
   "source": [
    "## Compare Effect of D(c) Models Using Logarithmic, Adaptively Meshed Grid"
   ]
  },
  {
   "cell_type": "code",
   "execution_count": 7,
   "metadata": {},
   "outputs": [],
   "source": [
    "reload(bubbleflow)\n",
    "reload(diffn)\n",
    "reload(an)\n",
    "\n",
    "# varied inputs\n",
    "D_fn_ = [diffn.D_p, diffn.D_dp]\n",
    "# collects bubble-growth functions\n",
    "num_fn_list = [bubbleflow.num_vary_D] * len(D_fn_)\n",
    "\n",
    "# fixed parameters\n",
    "N = 28\n",
    "k = 1.6\n",
    "R_max = 100E-6 # [m]\n",
    "grid_fn = diffn.make_r_arr_log\n",
    "dcdt_fn = diffn.calc_dcdt_sph_vary_D_nonuniform\n",
    "remesh_fn = diffn.remesh_once_manual\n",
    "remesh_freq = 100 # heuristic\n",
    "interp_kind = 'quadratic'\n",
    "i_remesh = 3\n",
    "dk = 0.1\n",
    "adapt_freq = 5\n",
    "\n",
    "\n",
    "# computes smallest length scale in grid [m]\n",
    "r_arr = diffn.make_r_arr_log(N, R_max, k=k)\n",
    "d = r_arr[1] - r_arr[0]\n",
    "# defines smallest time step to remain below smallest diffusion time scale\n",
    "D_max = max(diffn.D_p(500), diffn.D_dp(500))\n",
    "dt_max = 0.5*d**2/D_max\n",
    "\n",
    "\n",
    "# groups inputs for each function\n",
    "num_input_list = [{'t_nuc' : t_nuc, 'eps_params' : eps_params, 'R_max' : R_max, 'N' : N, 'D_fn' : D_fn,\n",
    "                  'grid_fn' : grid_fn, 'dcdt_fn' : dcdt_fn, 'dt_max' : dt_max, 'grid_params' : {'k' : k},\n",
    "                  'adapt_freq' : adapt_freq, 'remesh_fn' : remesh_fn, 'remesh_freq' : remesh_freq,\n",
    "                  'remesh_params' : {'interp_kind' : interp_kind, 'i_remesh' : i_remesh, 'dk' : dk}} \n",
    "                  for D_fn in D_fn_]"
   ]
  },
  {
   "cell_type": "code",
   "execution_count": null,
   "metadata": {},
   "outputs": [],
   "source": [
    "R_diff_list, _, raw_vals_list, _ = an.compare_R(num_input_list, num_fn_list, None, None, ret_comp_time=True)"
   ]
  },
  {
   "cell_type": "code",
   "execution_count": null,
   "metadata": {},
   "outputs": [],
   "source": [
    "t_ref = raw_vals_list[0][0]\n",
    "\n",
    "ax = pltd.diff(t_ref, R_diff_list, None, None)\n",
    "ax.set_ylabel(r'$\\Delta R/R_{EP}$', fontsize=16)\n",
    "ax.set_ylim([1E-3, 1])\n",
    "ax.set_title('Effect of Diffusivity Function on Error')"
   ]
  }
 ],
 "metadata": {
  "kernelspec": {
   "display_name": "Python 3",
   "language": "python",
   "name": "python3"
  },
  "language_info": {
   "codemirror_mode": {
    "name": "ipython",
    "version": 3
   },
   "file_extension": ".py",
   "mimetype": "text/x-python",
   "name": "python",
   "nbconvert_exporter": "python",
   "pygments_lexer": "ipython3",
   "version": "3.6.10"
  }
 },
 "nbformat": 4,
 "nbformat_minor": 4
}
