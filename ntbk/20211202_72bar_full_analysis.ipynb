{
 "cells": [
  {
   "cell_type": "markdown",
   "metadata": {},
   "source": [
    "# Full Analysis of Videos from Experiment on December 2, 2021 with 72 bar Saturation Pressure\n",
    "\n",
    "Having explored the bubble growth data in `20211202_72bar_eda.ipynb` and improved the method for fitting the bubble growth model to data in `20211202_72bar_compare_fit_methods.ipynb`, I will now analyze the full dataset here."
   ]
  },
  {
   "cell_type": "code",
   "execution_count": null,
   "metadata": {},
   "outputs": [],
   "source": [
    "%load_ext autoreload\n",
    "%autoreload 2\n",
    "\n",
    "# sets plotting font to Arial\n",
    "from matplotlib import rcParams\n",
    "rcParams['font.family'] = 'sans-serif'\n",
    "rcParams['font.sans-serif'] = ['Arial']"
   ]
  },
  {
   "cell_type": "code",
   "execution_count": null,
   "metadata": {},
   "outputs": [],
   "source": []
  },
  {
   "cell_type": "code",
   "execution_count": null,
   "metadata": {},
   "outputs": [],
   "source": [
    "# GROWTH MODEL PARAMETERS\n",
    "growth_fn = bubble.grow\n",
    "dt = 1E-10 # [s]\n",
    "R_nuc = 3E-9 # higher value bypasses numerical challenges at nm scale [m]\n",
    "# make this on Wang group server with `bi_surf`--read README.txt and copy 1k3f_22c.csv\n",
    "polyol_data_file = '../input/3k2f_31c.csv'\n",
    "# equation of state data for CO2 at desired temperature \n",
    "eos_co2_file = '../input/eos_co2_25-0C.csv'\n",
    "\n",
    "# FITTING PARAMETERS\n",
    "frac_lo = 0.95\n",
    "frac_hi = 1.05\n",
    "# guess for effective diffusivity constant [m^2/s]\n",
    "D_lo = 1E-9\n",
    "D_hi = 15E-9\n",
    "fit_fn_params = {'err_tol' : 0.003, 'err_fn' : an.calc_abs_sgn_mse}\n",
    "exp_ratio_tol = 0.01\n",
    "\n",
    "# PLOTTING PARAMETERS\n",
    "x_lim = [1E-2, 10]\n",
    "y_lim = [1, 30]\n",
    "\n",
    "# USER PARAMETERS\n",
    "n_fit = 5\n",
    "\n",
    "# globs list of data directories\n",
    "data_dir_list = glob.glob(data_dir_tmp)\n",
    "\n",
    "growth_data_dict = {}\n",
    "\n",
    "# error tolerances\n",
    "rms_err_tol = 0.03\n",
    "sgn_mse_err_tol = 0.003\n",
    "\n",
    "options = {'single pt' : {'fit_fn' : an.fit_growth_to_pt, 'fit_fn_params': {}},\n",
    "          'rms' : {'fit_fn' : an.fit_growth_to_pts, 'fit_fn_params' : \n",
    "                   {'err_fn' : an.calc_rms_err, 'err_tol' : rms_err_tol}},\n",
    "          'sgn mse' : {'fit_fn' : an.fit_growth_to_pts, 'fit_fn_params' :\n",
    "                      {'err_fn' : an.calc_abs_sgn_mse, 'err_tol' : sgn_mse_err_tol}}\n",
    "          }\n",
    "\n",
    "for tag in options.keys():\n",
    "    print('\\n\\nBeginning analysis for {0:s}.\\n\\n'.format(tag))\n",
    "    params = options[tag]\n",
    "    # fits effective diffusivity D and nucleation time t_nuc\n",
    "    growth_data = an.fit_D_t_nuc(data_filename, data_dir_list, polyol_data_file, eos_co2_file,\n",
    "                                 frac_lo, frac_hi, D_lo, D_hi, growth_fn, dt, R_nuc, \n",
    "                                 params['fit_fn_params'], exp_ratio_tol, fit_fn=params['fit_fn'],\n",
    "                                 n_fit=n_fit, x_lim=x_lim, y_lim=y_lim)\n",
    "    \n",
    "    # stores results under tag\n",
    "    growth_data_dict[tag] = growth_data"
   ]
  }
 ],
 "metadata": {
  "kernelspec": {
   "display_name": "Python 3",
   "language": "python",
   "name": "python3"
  },
  "language_info": {
   "codemirror_mode": {
    "name": "ipython",
    "version": 3
   },
   "file_extension": ".py",
   "mimetype": "text/x-python",
   "name": "python",
   "nbconvert_exporter": "python",
   "pygments_lexer": "ipython3",
   "version": "3.6.10"
  }
 },
 "nbformat": 4,
 "nbformat_minor": 4
}
