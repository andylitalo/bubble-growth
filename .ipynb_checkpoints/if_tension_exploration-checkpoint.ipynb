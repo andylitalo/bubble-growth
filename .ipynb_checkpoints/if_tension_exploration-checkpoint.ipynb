{
 "cells": [
  {
   "cell_type": "markdown",
   "metadata": {},
   "source": [
    "# Interfacial Tension Exploration\n",
    "\n",
    "I explore some behaviors of the interfacial tension of 1k3f at 22 C according to DFT predictions. This exploration will hopefully give me insights as to why the interfacial tension behaves as it does in `20200520_eps_pless_tolman.ipynb`."
   ]
  },
  {
   "cell_type": "code",
   "execution_count": 1,
   "metadata": {},
   "outputs": [
    {
     "data": {
      "text/plain": [
       "<matplotlib.legend.Legend at 0x1ded1f01cc0>"
      ]
     },
     "execution_count": 1,
     "metadata": {},
     "output_type": "execute_result"
    },
    {
     "data": {
      "image/png": "[encoded data removed]",
      "text/plain": [
       "<Figure size 432x288 with 1 Axes>"
      ]
     },
     "metadata": {
      "needs_background": "light"
     },
     "output_type": "display_data"
    }
   ],
   "source": [
    "import bubble\n",
    "import matplotlib.pyplot as plt\n",
    "import numpy as np\n",
    "import pandas as pd\n",
    "\n",
    "polyol_data_file = 'input/1k3f_22c.csv' # from DFT and PC-SAFT estimates\n",
    "eos_co2_file = 'input/eos_co2_22-0C.csv'\n",
    "Nm_2_mNm = 1E3\n",
    "kPa_2_MPa = 1E-3\n",
    "Pa_2_kPa = 1E-3\n",
    "\n",
    "\n",
    "R = 0.001\n",
    "\n",
    "p = np.linspace(0, 100E5, 100)\n",
    "if_interp_arrs = bubble.calc_if_tension_prep(polyol_data_file)\n",
    "gamma = bubble.calc_if_tension(p, if_interp_arrs, R)\n",
    "plt.plot(kPa_2_MPa*np.array(if_interp_arrs[0]), np.array(if_interp_arrs[1])*Nm_2_mNm, 'r^', label=r'$\\gamma(p)$ [mN/m]')\n",
    "plt.xlabel(r'$p$ [MPa]')\n",
    "\n",
    "f = bubble.interp_rho_co2(eos_co2_file)\n",
    "rho_co2 = f(p)\n",
    "plt.plot(kPa_2_MPa*np.array(p), rho_co2*1E-2, label=r'$\\rho_{CO2}(p)$ [0.1g/mL]')\n",
    "plt.xlim([np.min(p)*kPa_2_MPa+80, np.max(p)*kPa_2_MPa*1.1])\n",
    "plt.legend()\n"
   ]
  },
  {
   "cell_type": "markdown",
   "metadata": {},
   "source": [
    "Plot interfacial tension as a function of the density of the CO2-rich phase."
   ]
  },
  {
   "cell_type": "code",
   "execution_count": 2,
   "metadata": {},
   "outputs": [
    {
     "data": {
      "text/plain": [
       "Text(0, 0.5, '$\\\\gamma$ [mN/m]')"
      ]
     },
     "execution_count": 2,
     "metadata": {},
     "output_type": "execute_result"
    },
    {
     "data": {
      "image/png": "[encoded data removed]",
      "text/plain": [
       "<Figure size 432x288 with 1 Axes>"
      ]
     },
     "metadata": {
      "needs_background": "light"
     },
     "output_type": "display_data"
    }
   ],
   "source": [
    "# extracts density of CO2 in CO2-rich phase\n",
    "df = pd.read_csv(polyol_data_file)\n",
    "p_dft = df['p actual [kPa]'].to_numpy(dtype=float)\n",
    "if_tension_arr = df['if tension [mN/m]'].to_numpy(dtype=float) # measured interfacial tension [N/m]\n",
    "rho_co2 = df['co2 density [g/mL]'].to_numpy(dtype=float)\n",
    "rho_co2_interp = np.interp(p, p_dft/Pa_2_kPa, rho_co2)\n",
    "plt.plot(rho_co2, if_tension_arr, 'b^')\n",
    "# plt.xscale('log')\n",
    "# plt.yscale('log')\n",
    "plt.xlabel(r'$\\rho_{CO2}$ [g/mL]')\n",
    "plt.ylabel(r'$\\gamma$ [mN/m]')"
   ]
  },
  {
   "cell_type": "code",
   "execution_count": null,
   "metadata": {},
   "outputs": [],
   "source": []
  }
 ],
 "metadata": {
  "kernelspec": {
   "display_name": "Python 3",
   "language": "python",
   "name": "python3"
  },
  "language_info": {
   "codemirror_mode": {
    "name": "ipython",
    "version": 3
   },
   "file_extension": ".py",
   "mimetype": "text/x-python",
   "name": "python",
   "nbconvert_exporter": "python",
   "pygments_lexer": "ipython3",
   "version": "3.6.10"
  }
 },
 "nbformat": 4,
 "nbformat_minor": 4
}
