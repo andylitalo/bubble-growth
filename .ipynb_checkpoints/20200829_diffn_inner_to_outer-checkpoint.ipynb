{
 "cells": [
  {
   "cell_type": "markdown",
   "metadata": {},
   "source": [
    "# Modeling Diffusion from Inner Stream to Outer Stream\n",
    "\n",
    "We again look at video `v360_co2_8987_017_050_0200_94_295_04_7.mp4` from August 29, 2020, this time modeling the diffusion of CO2 from the polyol-CO2 inner stream to the pure-polyol outer stream. "
   ]
  },
  {
   "cell_type": "code",
   "execution_count": null,
   "metadata": {},
   "outputs": [],
   "source": [
    "# adds custom libraries to path\n",
    "import sys\n",
    "sys.append.path('../libs/')"
   ]
  }
 ],
 "metadata": {
  "kernelspec": {
   "display_name": "Python 3",
   "language": "python",
   "name": "python3"
  },
  "language_info": {
   "codemirror_mode": {
    "name": "ipython",
    "version": 3
   },
   "file_extension": ".py",
   "mimetype": "text/x-python",
   "name": "python",
   "nbconvert_exporter": "python",
   "pygments_lexer": "ipython3",
   "version": "3.6.10"
  }
 },
 "nbformat": 4,
 "nbformat_minor": 4
}
