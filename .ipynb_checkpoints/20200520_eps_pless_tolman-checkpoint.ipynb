{
 "cells": [
  {
   "cell_type": "markdown",
   "metadata": {},
   "source": [
    "# Modifications after Webex Meeting with Dow Team + Dr. Irfan Khan, May 19, 2020: Tolman Correction to Interfacial Tension\n",
    "\n",
    "On Tuesday, May 19, 2020, I met with members of our Dow team and Dow scientist Dr. Irfan Khan over Webex to discuss next steps for improving this model of bubble growth. This notebook implements and records the results of one those improvements: the Tolman correction to the Young-Laplace formula for the interfacial tension.\n",
    "\n",
    "Dr. Valeriy Ginzburg noted that the interfacial tension can be reduced by up to a factor of 2 for 5 nm bubbles in this case. This can be captured by the Tolman model of interfacial tension, which includes a first-order correction to the Young-Laplace equation due to the effect of a small radius of curvature,\n",
    "\n",
    "\\begin{align*}\n",
    "    \\frac{\\gamma(r)}{\\gamma(\\infty)} &= \\frac{1}{1+ \\frac{2\\delta}{r}}\\\\\n",
    "\\end{align*}\n",
    "\n",
    "where $\\gamma(r)$ is the interfacial tension along a surface with a radius of curvature of $r$, and $\\delta$ is the Tolman length, which can be calculated *a priori* but is typically estimated empirically. This can be substituted into the Young-Laplace equation, $p_{bubble} = p + \\frac{2 \\gamma(R)}{R}$, although there are additional corrections that become important when $R \\sim \\delta$ (see Tolman *JCP* 1949).\n",
    "\n",
    "**NOTE: this file also uses 1k3f_22c.csv for the polyol data, rather than 1k3f_30c.csv, as was used in some other IPython notebooks. This file thus uses interfacial tension estimates made at the appropriate temperature (22 C instead of 30 C).**"
   ]
  },
  {
   "cell_type": "code",
   "execution_count": 7,
   "metadata": {},
   "outputs": [],
   "source": [
    "# adds custom libraries to path\n",
    "import sys\n",
    "sys.path.append('../libs/')\n",
    "sys.path.append('src/')\n",
    "\n",
    "# import libraries\n",
    "import numpy as np\n",
    "import matplotlib.pyplot as plt\n",
    "\n",
    "import scipy.optimize\n",
    "import scipy.interpolate\n",
    "\n",
    "# custom libraries\n",
    "import bubble\n",
    "import flow\n",
    "import plot\n",
    "import analytics as an\n",
    "\n",
    "from importlib import reload\n",
    "reload(bubble)\n",
    "reload(an)\n",
    "\n",
    "# lists data files required\n",
    "# load data (interfacial tension, solubility, and diffusivity) for polyols? we don't have data for VORANOL 360...use 1k3f\n",
    "polyol_data_file = 'input/1k3f_22c.csv' # from DFT and PC-SAFT estimates\n",
    "# load CO2 equation of state data for desired temperature [csv]\n",
    "eos_co2_file = 'input/eos_co2_22-0C.csv'\n",
    "# folder to save figures\n",
    "save_folder = 'figs/'\n",
    "save_figs = True\n",
    "\n",
    "# system parameters\n",
    "eta_o = 3.6 # viscosity of pure-polyol in outer stream, VORANOL 360, 'Polyol Properties.ppt'  [Pa.s]\n",
    "p_in = 85E5 # estimate of pressure at capillary in let [Pa]\n",
    "L = 0.099 # length of observation capillary, p. 154 of lab notebook #0005 [m]\n",
    "p_atm = 101.3E3 # atmospheric pressure, assumed to be outlet pressure [Pa]\n",
    "Q_o = 2000/60E9 # outer stream flow rate, input to ISCO 260 D [m^3/s]\n",
    "Q_i = 180/60E9 # inner stream flow rate, input to ISCO 100 DM [m^3/s]\n",
    "R_cap = 254E-6 # radius of inner walls of observation capillary, PFA 0.002\" ID [m]\n",
    "R_nuc = 4E-9 # initial bubble radius, estimated as a bit larger than prediction in slide 13 of 20200305_aps_march_meeting [m]\n",
    "p_s = 72E5 # saturation pressure of CO2 in VORANOL 360, p. 154 of lab notebook #0005 [Pa]\n",
    "\n",
    "# numerical parameters\n",
    "dt = 1E-7 # time step for numerical model [s]\n",
    "\n",
    "# CONVERSIONS\n",
    "s_2_ms = 1000\n",
    "s_2_us = 1E6\n",
    "kg_2_g = 1E3\n",
    "kg_2_ng = 1E12\n",
    "kgm3_2_gmL = 1E-3\n",
    "m_2_mm = 1000\n",
    "m_2_um = 1E6\n",
    "m_2_nm = 1E9\n",
    "Pa_2_bar = 1E-5\n",
    "Pa_2_MPa = 1E-6\n",
    "Nm_2_mNm = 1000"
   ]
  },
  {
   "cell_type": "markdown",
   "metadata": {},
   "source": [
    "### Solve for Flow Profile\n",
    "\n",
    "Solve Stokes flow and constraints from conservation of volume for inner and outer streams."
   ]
  },
  {
   "cell_type": "code",
   "execution_count": 8,
   "metadata": {
    "scrolled": true
   },
   "outputs": [
    {
     "name": "stdout",
     "output_type": "stream",
     "text": [
      "Inner stream viscosity eta_i = 0.91 Pa.s\n",
      "Inner stream velocity v = 422.5 mm/s\n",
      "Radius of inner stream R_i = 49.2 um.\n"
     ]
    }
   ],
   "source": [
    "# calculates inner stream velocity based on flow rates, viscosities, and observation capillary inner diameter\n",
    "eta_i0 = 0.8\n",
    "R_i0 = 50E-6\n",
    "v0 = 0.5\n",
    "x0 = [eta_i0, R_i0, v0] # initial guesses for p_in [Pa], v [m/s], R_i [m]\n",
    "ordering = [0, 3, 4, 5, 6, 7, 8, 1, 9, 2] # indices of vars in alphabetical order from list vars + args\n",
    "args = (eta_o, L, p_atm, p_in, Q_i, Q_o, R_cap, ordering)\n",
    "soln = scipy.optimize.root(flow.sheath_eqns_input, x0, args=(args,))\n",
    "eta_i, R_i, v = soln.x\n",
    "\n",
    "print('Inner stream viscosity eta_i = {0:.2f} Pa.s'.format(eta_i))\n",
    "print('Inner stream velocity v = {0:.1f} mm/s'.format(v*m_2_mm))\n",
    "print('Radius of inner stream R_i = {0:.1f} um.'.format(R_i*m_2_um))"
   ]
  },
  {
   "cell_type": "markdown",
   "metadata": {},
   "source": [
    "### Plot Example\n",
    "\n",
    "We first plot an example since we are using a different set of values for the interfacial tension than in previous notebooks."
   ]
  },
  {
   "cell_type": "code",
   "execution_count": 9,
   "metadata": {},
   "outputs": [
    {
     "ename": "FileNotFoundError",
     "evalue": "[Errno 2] File input/1k3f_30c_sensitivity/1k3f_30c.csv does not exist: 'input/1k3f_30c_sensitivity/1k3f_30c.csv'",
     "output_type": "error",
     "traceback": [
      "\u001b[1;31m---------------------------------------------------------------------------\u001b[0m",
      "\u001b[1;31mFileNotFoundError\u001b[0m                         Traceback (most recent call last)",
      "\u001b[1;32m<ipython-input-9-dbbc452e49ec>\u001b[0m in \u001b[0;36m<module>\u001b[1;34m\u001b[0m\n\u001b[0;32m      5\u001b[0m t, m, D, p, p_bubble, if_tension, c_s, R, rho_co2 = bubble.grow(dt, t_nuc, p_s, R_nuc, L, p_in, v,\n\u001b[0;32m      6\u001b[0m                                                                             \u001b[0mpolyol_data_file\u001b[0m\u001b[1;33m,\u001b[0m \u001b[0meos_co2_file\u001b[0m\u001b[1;33m,\u001b[0m\u001b[1;33m\u001b[0m\u001b[1;33m\u001b[0m\u001b[0m\n\u001b[1;32m----> 7\u001b[1;33m                                                                             adaptive_dt=True, implicit=False)\n\u001b[0m",
      "\u001b[1;32m~\\OneDrive - California Institute of Technology\\Documents\\Research\\Kornfield\\ANALYSIS\\bubble-growth\\src\\bubble.py\u001b[0m in \u001b[0;36mgrow\u001b[1;34m(t_nuc, dt, p_s, R_nuc, L, p_in, v, polyol_data_file, eos_co2_file, adaptive_dt, if_tension_model, implicit, d_tolman, tol_R, alpha, D, time_step_fn, dt_max)\u001b[0m\n\u001b[0;32m    146\u001b[0m                                             \u001b[0mv\u001b[0m\u001b[1;33m,\u001b[0m \u001b[0mL\u001b[0m\u001b[1;33m,\u001b[0m \u001b[0mD\u001b[0m\u001b[1;33m,\u001b[0m \u001b[0mpolyol_data_file\u001b[0m\u001b[1;33m,\u001b[0m\u001b[1;33m\u001b[0m\u001b[1;33m\u001b[0m\u001b[0m\n\u001b[0;32m    147\u001b[0m                                             \u001b[0meos_co2_file\u001b[0m\u001b[1;33m,\u001b[0m \u001b[0mif_tension_model\u001b[0m\u001b[1;33m,\u001b[0m\u001b[1;33m\u001b[0m\u001b[1;33m\u001b[0m\u001b[0m\n\u001b[1;32m--> 148\u001b[1;33m                                             d_tolman, implicit)\n\u001b[0m\u001b[0;32m    149\u001b[0m     \u001b[1;31m# applies Euler's method to estimate bubble growth over time\u001b[0m\u001b[1;33m\u001b[0m\u001b[1;33m\u001b[0m\u001b[1;33m\u001b[0m\u001b[0m\n\u001b[0;32m    150\u001b[0m     \u001b[1;31m# the second condition provides cutoff for shrinking the bubble\u001b[0m\u001b[1;33m\u001b[0m\u001b[1;33m\u001b[0m\u001b[1;33m\u001b[0m\u001b[0m\n",
      "\u001b[1;32m~\\OneDrive - California Institute of Technology\\Documents\\Research\\Kornfield\\ANALYSIS\\bubble-growth\\src\\bubble.py\u001b[0m in \u001b[0;36minit\u001b[1;34m(p_in, p_s, t_nuc, R_nuc, v, L, D, polyol_data_file, eos_co2_file, if_tension_model, d_tolman, implicit)\u001b[0m\n\u001b[0;32m    504\u001b[0m     \"\"\"\n\u001b[0;32m    505\u001b[0m     \u001b[1;31m# prep arrays for interpolation\u001b[0m\u001b[1;33m\u001b[0m\u001b[1;33m\u001b[0m\u001b[1;33m\u001b[0m\u001b[0m\n\u001b[1;32m--> 506\u001b[1;33m     \u001b[0mc_s_interp_arrs\u001b[0m \u001b[1;33m=\u001b[0m \u001b[0mpolyco2\u001b[0m\u001b[1;33m.\u001b[0m\u001b[0mload_c_s_arr\u001b[0m\u001b[1;33m(\u001b[0m\u001b[0mpolyol_data_file\u001b[0m\u001b[1;33m)\u001b[0m\u001b[1;33m\u001b[0m\u001b[1;33m\u001b[0m\u001b[0m\n\u001b[0m\u001b[0;32m    507\u001b[0m     if_interp_arrs = polyco2.load_if_tension_arr(polyol_data_file,\n\u001b[0;32m    508\u001b[0m                                           if_tension_model=if_tension_model)\n",
      "\u001b[1;32m~\\OneDrive - California Institute of Technology\\Documents\\Research\\Kornfield\\ANALYSIS\\libs\\polyco2.py\u001b[0m in \u001b[0;36mload_c_s_arr\u001b[1;34m(polyol_data_file, sort)\u001b[0m\n\u001b[0;32m    343\u001b[0m     \"\"\"\n\u001b[0;32m    344\u001b[0m     \u001b[1;31m# loads thermophysical property data from file\u001b[0m\u001b[1;33m\u001b[0m\u001b[1;33m\u001b[0m\u001b[1;33m\u001b[0m\u001b[0m\n\u001b[1;32m--> 345\u001b[1;33m     \u001b[0mdf\u001b[0m \u001b[1;33m=\u001b[0m \u001b[0mpd\u001b[0m\u001b[1;33m.\u001b[0m\u001b[0mread_csv\u001b[0m\u001b[1;33m(\u001b[0m\u001b[0mpolyol_data_file\u001b[0m\u001b[1;33m)\u001b[0m\u001b[1;33m\u001b[0m\u001b[1;33m\u001b[0m\u001b[0m\n\u001b[0m\u001b[0;32m    346\u001b[0m     \u001b[0mp_arr\u001b[0m \u001b[1;33m=\u001b[0m \u001b[0mkPa_2_Pa\u001b[0m\u001b[1;33m*\u001b[0m\u001b[0mdf\u001b[0m\u001b[1;33m[\u001b[0m\u001b[1;34m'p actual [kPa]'\u001b[0m\u001b[1;33m]\u001b[0m\u001b[1;33m.\u001b[0m\u001b[0mto_numpy\u001b[0m\u001b[1;33m(\u001b[0m\u001b[0mdtype\u001b[0m\u001b[1;33m=\u001b[0m\u001b[0mfloat\u001b[0m\u001b[1;33m)\u001b[0m \u001b[1;31m# measured pressures from experiment [Pa]\u001b[0m\u001b[1;33m\u001b[0m\u001b[1;33m\u001b[0m\u001b[0m\n\u001b[0;32m    347\u001b[0m     \u001b[0msolub_arr\u001b[0m \u001b[1;33m=\u001b[0m \u001b[0mdf\u001b[0m\u001b[1;33m[\u001b[0m\u001b[1;34m'solubility [w/w]'\u001b[0m\u001b[1;33m]\u001b[0m\u001b[1;33m.\u001b[0m\u001b[0mto_numpy\u001b[0m\u001b[1;33m(\u001b[0m\u001b[0mdtype\u001b[0m\u001b[1;33m=\u001b[0m\u001b[0mfloat\u001b[0m\u001b[1;33m)\u001b[0m \u001b[1;31m# measured solubility [w/w]\u001b[0m\u001b[1;33m\u001b[0m\u001b[1;33m\u001b[0m\u001b[0m\n",
      "\u001b[1;32m~\\anaconda3\\envs\\py36\\lib\\site-packages\\pandas\\io\\parsers.py\u001b[0m in \u001b[0;36mparser_f\u001b[1;34m(filepath_or_buffer, sep, delimiter, header, names, index_col, usecols, squeeze, prefix, mangle_dupe_cols, dtype, engine, converters, true_values, false_values, skipinitialspace, skiprows, skipfooter, nrows, na_values, keep_default_na, na_filter, verbose, skip_blank_lines, parse_dates, infer_datetime_format, keep_date_col, date_parser, dayfirst, cache_dates, iterator, chunksize, compression, thousands, decimal, lineterminator, quotechar, quoting, doublequote, escapechar, comment, encoding, dialect, error_bad_lines, warn_bad_lines, delim_whitespace, low_memory, memory_map, float_precision)\u001b[0m\n\u001b[0;32m    674\u001b[0m         )\n\u001b[0;32m    675\u001b[0m \u001b[1;33m\u001b[0m\u001b[0m\n\u001b[1;32m--> 676\u001b[1;33m         \u001b[1;32mreturn\u001b[0m \u001b[0m_read\u001b[0m\u001b[1;33m(\u001b[0m\u001b[0mfilepath_or_buffer\u001b[0m\u001b[1;33m,\u001b[0m \u001b[0mkwds\u001b[0m\u001b[1;33m)\u001b[0m\u001b[1;33m\u001b[0m\u001b[1;33m\u001b[0m\u001b[0m\n\u001b[0m\u001b[0;32m    677\u001b[0m \u001b[1;33m\u001b[0m\u001b[0m\n\u001b[0;32m    678\u001b[0m     \u001b[0mparser_f\u001b[0m\u001b[1;33m.\u001b[0m\u001b[0m__name__\u001b[0m \u001b[1;33m=\u001b[0m \u001b[0mname\u001b[0m\u001b[1;33m\u001b[0m\u001b[1;33m\u001b[0m\u001b[0m\n",
      "\u001b[1;32m~\\anaconda3\\envs\\py36\\lib\\site-packages\\pandas\\io\\parsers.py\u001b[0m in \u001b[0;36m_read\u001b[1;34m(filepath_or_buffer, kwds)\u001b[0m\n\u001b[0;32m    446\u001b[0m \u001b[1;33m\u001b[0m\u001b[0m\n\u001b[0;32m    447\u001b[0m     \u001b[1;31m# Create the parser.\u001b[0m\u001b[1;33m\u001b[0m\u001b[1;33m\u001b[0m\u001b[1;33m\u001b[0m\u001b[0m\n\u001b[1;32m--> 448\u001b[1;33m     \u001b[0mparser\u001b[0m \u001b[1;33m=\u001b[0m \u001b[0mTextFileReader\u001b[0m\u001b[1;33m(\u001b[0m\u001b[0mfp_or_buf\u001b[0m\u001b[1;33m,\u001b[0m \u001b[1;33m**\u001b[0m\u001b[0mkwds\u001b[0m\u001b[1;33m)\u001b[0m\u001b[1;33m\u001b[0m\u001b[1;33m\u001b[0m\u001b[0m\n\u001b[0m\u001b[0;32m    449\u001b[0m \u001b[1;33m\u001b[0m\u001b[0m\n\u001b[0;32m    450\u001b[0m     \u001b[1;32mif\u001b[0m \u001b[0mchunksize\u001b[0m \u001b[1;32mor\u001b[0m \u001b[0miterator\u001b[0m\u001b[1;33m:\u001b[0m\u001b[1;33m\u001b[0m\u001b[1;33m\u001b[0m\u001b[0m\n",
      "\u001b[1;32m~\\anaconda3\\envs\\py36\\lib\\site-packages\\pandas\\io\\parsers.py\u001b[0m in \u001b[0;36m__init__\u001b[1;34m(self, f, engine, **kwds)\u001b[0m\n\u001b[0;32m    878\u001b[0m             \u001b[0mself\u001b[0m\u001b[1;33m.\u001b[0m\u001b[0moptions\u001b[0m\u001b[1;33m[\u001b[0m\u001b[1;34m\"has_index_names\"\u001b[0m\u001b[1;33m]\u001b[0m \u001b[1;33m=\u001b[0m \u001b[0mkwds\u001b[0m\u001b[1;33m[\u001b[0m\u001b[1;34m\"has_index_names\"\u001b[0m\u001b[1;33m]\u001b[0m\u001b[1;33m\u001b[0m\u001b[1;33m\u001b[0m\u001b[0m\n\u001b[0;32m    879\u001b[0m \u001b[1;33m\u001b[0m\u001b[0m\n\u001b[1;32m--> 880\u001b[1;33m         \u001b[0mself\u001b[0m\u001b[1;33m.\u001b[0m\u001b[0m_make_engine\u001b[0m\u001b[1;33m(\u001b[0m\u001b[0mself\u001b[0m\u001b[1;33m.\u001b[0m\u001b[0mengine\u001b[0m\u001b[1;33m)\u001b[0m\u001b[1;33m\u001b[0m\u001b[1;33m\u001b[0m\u001b[0m\n\u001b[0m\u001b[0;32m    881\u001b[0m \u001b[1;33m\u001b[0m\u001b[0m\n\u001b[0;32m    882\u001b[0m     \u001b[1;32mdef\u001b[0m \u001b[0mclose\u001b[0m\u001b[1;33m(\u001b[0m\u001b[0mself\u001b[0m\u001b[1;33m)\u001b[0m\u001b[1;33m:\u001b[0m\u001b[1;33m\u001b[0m\u001b[1;33m\u001b[0m\u001b[0m\n",
      "\u001b[1;32m~\\anaconda3\\envs\\py36\\lib\\site-packages\\pandas\\io\\parsers.py\u001b[0m in \u001b[0;36m_make_engine\u001b[1;34m(self, engine)\u001b[0m\n\u001b[0;32m   1112\u001b[0m     \u001b[1;32mdef\u001b[0m \u001b[0m_make_engine\u001b[0m\u001b[1;33m(\u001b[0m\u001b[0mself\u001b[0m\u001b[1;33m,\u001b[0m \u001b[0mengine\u001b[0m\u001b[1;33m=\u001b[0m\u001b[1;34m\"c\"\u001b[0m\u001b[1;33m)\u001b[0m\u001b[1;33m:\u001b[0m\u001b[1;33m\u001b[0m\u001b[1;33m\u001b[0m\u001b[0m\n\u001b[0;32m   1113\u001b[0m         \u001b[1;32mif\u001b[0m \u001b[0mengine\u001b[0m \u001b[1;33m==\u001b[0m \u001b[1;34m\"c\"\u001b[0m\u001b[1;33m:\u001b[0m\u001b[1;33m\u001b[0m\u001b[1;33m\u001b[0m\u001b[0m\n\u001b[1;32m-> 1114\u001b[1;33m             \u001b[0mself\u001b[0m\u001b[1;33m.\u001b[0m\u001b[0m_engine\u001b[0m \u001b[1;33m=\u001b[0m \u001b[0mCParserWrapper\u001b[0m\u001b[1;33m(\u001b[0m\u001b[0mself\u001b[0m\u001b[1;33m.\u001b[0m\u001b[0mf\u001b[0m\u001b[1;33m,\u001b[0m \u001b[1;33m**\u001b[0m\u001b[0mself\u001b[0m\u001b[1;33m.\u001b[0m\u001b[0moptions\u001b[0m\u001b[1;33m)\u001b[0m\u001b[1;33m\u001b[0m\u001b[1;33m\u001b[0m\u001b[0m\n\u001b[0m\u001b[0;32m   1115\u001b[0m         \u001b[1;32melse\u001b[0m\u001b[1;33m:\u001b[0m\u001b[1;33m\u001b[0m\u001b[1;33m\u001b[0m\u001b[0m\n\u001b[0;32m   1116\u001b[0m             \u001b[1;32mif\u001b[0m \u001b[0mengine\u001b[0m \u001b[1;33m==\u001b[0m \u001b[1;34m\"python\"\u001b[0m\u001b[1;33m:\u001b[0m\u001b[1;33m\u001b[0m\u001b[1;33m\u001b[0m\u001b[0m\n",
      "\u001b[1;32m~\\anaconda3\\envs\\py36\\lib\\site-packages\\pandas\\io\\parsers.py\u001b[0m in \u001b[0;36m__init__\u001b[1;34m(self, src, **kwds)\u001b[0m\n\u001b[0;32m   1889\u001b[0m         \u001b[0mkwds\u001b[0m\u001b[1;33m[\u001b[0m\u001b[1;34m\"usecols\"\u001b[0m\u001b[1;33m]\u001b[0m \u001b[1;33m=\u001b[0m \u001b[0mself\u001b[0m\u001b[1;33m.\u001b[0m\u001b[0musecols\u001b[0m\u001b[1;33m\u001b[0m\u001b[1;33m\u001b[0m\u001b[0m\n\u001b[0;32m   1890\u001b[0m \u001b[1;33m\u001b[0m\u001b[0m\n\u001b[1;32m-> 1891\u001b[1;33m         \u001b[0mself\u001b[0m\u001b[1;33m.\u001b[0m\u001b[0m_reader\u001b[0m \u001b[1;33m=\u001b[0m \u001b[0mparsers\u001b[0m\u001b[1;33m.\u001b[0m\u001b[0mTextReader\u001b[0m\u001b[1;33m(\u001b[0m\u001b[0msrc\u001b[0m\u001b[1;33m,\u001b[0m \u001b[1;33m**\u001b[0m\u001b[0mkwds\u001b[0m\u001b[1;33m)\u001b[0m\u001b[1;33m\u001b[0m\u001b[1;33m\u001b[0m\u001b[0m\n\u001b[0m\u001b[0;32m   1892\u001b[0m         \u001b[0mself\u001b[0m\u001b[1;33m.\u001b[0m\u001b[0munnamed_cols\u001b[0m \u001b[1;33m=\u001b[0m \u001b[0mself\u001b[0m\u001b[1;33m.\u001b[0m\u001b[0m_reader\u001b[0m\u001b[1;33m.\u001b[0m\u001b[0munnamed_cols\u001b[0m\u001b[1;33m\u001b[0m\u001b[1;33m\u001b[0m\u001b[0m\n\u001b[0;32m   1893\u001b[0m \u001b[1;33m\u001b[0m\u001b[0m\n",
      "\u001b[1;32mpandas\\_libs\\parsers.pyx\u001b[0m in \u001b[0;36mpandas._libs.parsers.TextReader.__cinit__\u001b[1;34m()\u001b[0m\n",
      "\u001b[1;32mpandas\\_libs\\parsers.pyx\u001b[0m in \u001b[0;36mpandas._libs.parsers.TextReader._setup_parser_source\u001b[1;34m()\u001b[0m\n",
      "\u001b[1;31mFileNotFoundError\u001b[0m: [Errno 2] File input/1k3f_30c_sensitivity/1k3f_30c.csv does not exist: 'input/1k3f_30c_sensitivity/1k3f_30c.csv'"
     ]
    }
   ],
   "source": [
    "reload(bubble)\n",
    "t_nuc = 0.068\n",
    "dt = 1E-6\n",
    "# computes bubble growth trajectory using modified Epstein-Plesset model\n",
    "t, m, D, p, p_bubble, if_tension, c_s, R, rho_co2 = bubble.grow(dt, t_nuc, p_s, R_nuc, L, p_in, v,\n",
    "                                                                            polyol_data_file, eos_co2_file, \n",
    "                                                                            adaptive_dt=True, implicit=False)"
   ]
  },
  {
   "cell_type": "markdown",
   "metadata": {},
   "source": [
    "Below, we plot the results to compare to previous notebooks."
   ]
  },
  {
   "cell_type": "code",
   "execution_count": null,
   "metadata": {
    "scrolled": true
   },
   "outputs": [],
   "source": [
    "props_list = (R, m, p, p_bubble, rho_co2, if_tension)\n",
    "ax = plot.all_props(t, t_nuc, props_list, x_log=False, title='New Interfacial Tension Data')"
   ]
  },
  {
   "cell_type": "markdown",
   "metadata": {},
   "source": [
    "### Add Tolman Correction\n",
    "\n",
    "We now look at what happens to the properties when we add a Tolman length correction of 10 nm."
   ]
  },
  {
   "cell_type": "code",
   "execution_count": null,
   "metadata": {},
   "outputs": [],
   "source": [
    "reload(bubble)\n",
    "t_nuc = 0.068\n",
    "dt = 1E-6\n",
    "# computes bubble growth trajectory using modified Epstein-Plesset model\n",
    "t, m, D, p, p_bubble, if_tension, c_s, R, rho_co2 = bubble.grow(dt, t_nuc, p_s, R_nuc, p_atm, L, p_in, v,\n",
    "                                                                            polyol_data_file, eos_co2_file, \n",
    "                                                                            adaptive_dt=True, implicit=False, d_tolman=10E-9)"
   ]
  },
  {
   "cell_type": "markdown",
   "metadata": {},
   "source": [
    "Plot results with Tolman correction."
   ]
  },
  {
   "cell_type": "code",
   "execution_count": null,
   "metadata": {},
   "outputs": [],
   "source": [
    "props_list = (R, m, p, p_bubble, rho_co2, if_tension)\n",
    "ax = plot.all_props(t, t_nuc, props_list, x_log=True, title='Tolman Length = 10 nm')"
   ]
  },
  {
   "cell_type": "markdown",
   "metadata": {},
   "source": [
    "### Vary the Tolman Length\n",
    "\n",
    "I will look at Tolman lengths of 0 nm (no Tolman correction), 5 nm, 10 nm, and 20 nm."
   ]
  },
  {
   "cell_type": "code",
   "execution_count": null,
   "metadata": {},
   "outputs": [],
   "source": [
    "reload(an)\n",
    "reload(bubble)\n",
    "\n",
    "# explicit time-stepping for different Tolman lengths [m], with the reference value (0 nm) first for later analysis\n",
    "d_tolman_list = [0, 5E-9, 10E-9, 20E-9, 100E-9]\n",
    "dt0 = 1E-8\n",
    "t_nuc = 0.068\n",
    "adaptive_dt = True\n",
    "implicit = False\n",
    "tol_R = 1E-3\n",
    "alpha = 0.8\n",
    "\n",
    "args = (dt0, t_nuc, p_s, R_nuc, p_atm, L, p_in, v, polyol_data_file, eos_co2_file, adaptive_dt, implicit, tol_R, alpha)\n",
    "tolman_sweep = an.sweep(d_tolman_list, an.d_tolman, args, param_name='d_tolman', conv=m_2_nm, units='nm')"
   ]
  },
  {
   "cell_type": "markdown",
   "metadata": {},
   "source": [
    "We extract parameters to plot."
   ]
  },
  {
   "cell_type": "code",
   "execution_count": null,
   "metadata": {},
   "outputs": [],
   "source": [
    "# extracts results\n",
    "t_list = tolman_sweep[0]\n",
    "R_list = tolman_sweep[-2]\n",
    "p_list = tolman_sweep[3]\n",
    "p_bubble_list = tolman_sweep[4]\n",
    "if_tension_list = tolman_sweep[5]\n",
    "rho_co2_list = tolman_sweep[-1]"
   ]
  },
  {
   "cell_type": "markdown",
   "metadata": {},
   "source": [
    "Next, we compare the results in a plot."
   ]
  },
  {
   "cell_type": "code",
   "execution_count": null,
   "metadata": {},
   "outputs": [],
   "source": [
    "label_list = [r'$d_{Tolman}$' + ' = {0:.1f} nm'.format(d_tolman*m_2_nm) for d_tolman in d_tolman_list]\n",
    "ax = plot.series(t_list, R_list, label_list, t_nuc, s_2_ms, m_2_um, r'$t - t_{nuc}$ [ms]',\n",
    "           r'$R$ [$\\mu$m]', 'Varying Tolman Length, Explicit', x_log=True, y_log=True)"
   ]
  },
  {
   "cell_type": "markdown",
   "metadata": {},
   "source": [
    "Next, we plot the difference in the result from the reference with a Tolman length of 0 (no correction)."
   ]
  },
  {
   "cell_type": "code",
   "execution_count": null,
   "metadata": {},
   "outputs": [],
   "source": [
    "reload(plot)\n",
    "diff_label_list = label_list\n",
    "diff_label_list[0] = r'ref, $d_{Tolman}$' + ' = {0:.1f} nm'.format(d_tolman_list[0]*m_2_nm)\n",
    "ax = plot.diff(t_list, R_list, diff_label_list, t_nuc, s_2_ms, m_2_um, r'$t - t_{nuc}$ [ms]',\n",
    "           r'$R$ [$\\mu$m]', 'Effect of Tolman Length, Explicit', x_log=True, y_log=True)"
   ]
  },
  {
   "cell_type": "markdown",
   "metadata": {},
   "source": [
    "We'll also plot the fractional difference from the reference."
   ]
  },
  {
   "cell_type": "code",
   "execution_count": null,
   "metadata": {},
   "outputs": [],
   "source": [
    "reload(plot)\n",
    "ax = plot.diff(t_list, R_list, diff_label_list[1:], t_nuc, s_2_ms, 1, r'$t - t_{nuc}$ [ms]',\n",
    "           r'$\\Delta R/R_{ref}$ [nondim]', 'Tolman Correction, Explicit', x_log=True, y_log=True, frac=True)\n",
    "ax.set_ylim([1E-5, 1])"
   ]
  },
  {
   "cell_type": "markdown",
   "metadata": {},
   "source": [
    "The effect of the Tolman length looks no bigger than the tolerance on $R$ (0.001). Is the Tolman length being implemented?\n",
    "\n",
    "To check, I will plot the interfacial tension.\n",
    "\n",
    "### Interfacial Tension"
   ]
  },
  {
   "cell_type": "code",
   "execution_count": null,
   "metadata": {},
   "outputs": [],
   "source": [
    "label_list = [r'$d_{Tolman}$' + ' = {0:.1f} nm'.format(d_tolman*m_2_nm) for d_tolman in d_tolman_list]\n",
    "ax = plot.series(t_list, if_tension_list, label_list, t_nuc, s_2_ms, Nm_2_mNm, r'$t - t_{nuc}$ [ms]',\n",
    "           r'$\\gamma$ [mN/m]', 'Varying Tolman Length, Explicit', x_log=True, y_log=True)"
   ]
  },
  {
   "cell_type": "markdown",
   "metadata": {},
   "source": [
    "The Tolman length correction is definitely affecting the interfacial tension as expected, but perhaps the interfacial tension is already too small to have a profound effect on the bubble growth. I will plot as a function of the radius to double-check that the convergence of the Tolman-corrected interfacial tension and the Young-Laplace formula for the interfacial tension ($d_{Tolman} = 0$ nm) occurs around the Tolman length."
   ]
  },
  {
   "cell_type": "code",
   "execution_count": null,
   "metadata": {},
   "outputs": [],
   "source": [
    "ax = plot.series(R_list, if_tension_list, label_list, 0, m_2_nm, Nm_2_mNm, r'$R$ [nm]',\n",
    "           r'$\\gamma$ [mN/m]', 'Varying Tolman Length, Explicit', x_log=True, y_log=True)"
   ]
  },
  {
   "cell_type": "markdown",
   "metadata": {},
   "source": [
    "The convergence appears to occur when the radius is at least 200 times larger than the Tolman length. I'm curious, so I will also plot the fractional difference."
   ]
  },
  {
   "cell_type": "code",
   "execution_count": null,
   "metadata": {
    "scrolled": true
   },
   "outputs": [],
   "source": [
    "reload(plot)\n",
    "ax = plot.diff(R_list, if_tension_list, diff_label_list[1:], 0, m_2_nm, 1, r'$R$ [nm]',\n",
    "               r'$\\Delta \\gamma/\\gamma_{ref}$ [nondim]', 'Fractional Tolman Correction, Explicit', \n",
    "               x_log=True, y_log=True, frac=True)\n",
    "ax.plot([1, 1E7], [0.01, 0.01], 'k--')"
   ]
  },
  {
   "cell_type": "markdown",
   "metadata": {},
   "source": [
    "Here, the black line marks the value of 1%. The Tolman correction should be less than 1% for $R > 200d_{Tolman}$ (= $2d_{Tolman}/R$). This appears to be the case, indicating that the Tolman correction is indeed implemented correctly."
   ]
  },
  {
   "cell_type": "markdown",
   "metadata": {},
   "source": [
    "### Why is there a plateau at the beginning?\n",
    "\n",
    "We see a plateau in the interfacial tension at the beginning of the plot that is two plots above this cell. Why is that? My hypothesis is that the planar interfacial tension does not change substantially for the range of densities in that range of radius. To test this hypothesis, I will plot the interfacial tension and density together."
   ]
  },
  {
   "cell_type": "code",
   "execution_count": null,
   "metadata": {},
   "outputs": [],
   "source": [
    "i = 1 # Tolman length of 5 nm\n",
    "\n",
    "fig = plt.figure()\n",
    "ax = fig.add_subplot(111)\n",
    "ax.plot(np.array(R_list[1])*m_2_um, np.array(if_tension_list[1])*Nm_2_mNm, 'b--', label=r'$\\gamma(R)$ [mN/m]')\n",
    "ax.plot(np.array(R_list[1])*m_2_um, np.array(rho_co2_list[1])*kgm3_2_gmL, 'g-', label=r'$\\rho_{CO2}(R)$ [g/mL]')\n",
    "ax.set_xlabel(r'$R$ [$\\mu$m]', fontsize=16)\n",
    "ax.set_title('Plateau in Tolman-corrected Interfacial Tension in the Context of CO2 Density')\n",
    "ax.set_xscale('log')\n",
    "ax.set_yscale('log')\n",
    "\n",
    "plt.legend()\n",
    "\n"
   ]
  },
  {
   "cell_type": "markdown",
   "metadata": {},
   "source": [
    "We see that the plateau occurs after the radius $R$ far exceeds the Tolman length $d_{Tolman}$ (5 nm in the above plot), but the density of CO2 is still liquid and not changing. In the above plot, this plateau regime occurs from a radius of about 100 nm to 1 $\\mu$m."
   ]
  },
  {
   "cell_type": "code",
   "execution_count": null,
   "metadata": {},
   "outputs": [],
   "source": [
    "i = 1 # Tolman length of 5 nm\n",
    "\n",
    "fig = plt.figure()\n",
    "ax = fig.add_subplot(111)\n",
    "ax.plot(np.array(t_list[1])*s_2_ms, np.array(if_tension_list[1])*Nm_2_mNm, 'b--', label=r'$\\gamma(R)$ [mN/m]')\n",
    "ax.plot(np.array(t_list[1])*s_2_ms, np.array(rho_co2_list[1])*kgm3_2_gmL, 'g-', label=r'$\\rho_{CO2}(R)$ [g/mL]')\n",
    "ax.set_xlabel(r'$R$ [$\\mu$m]', fontsize=16)\n",
    "ax.set_title('Plateau in Tolman-corrected Interfacial Tension in the Context of CO2 Density')\n",
    "ax.set_xscale('log')\n",
    "ax.set_yscale('log')\n",
    "\n",
    "plt.legend()"
   ]
  }
 ],
 "metadata": {
  "kernelspec": {
   "display_name": "Python 3",
   "language": "python",
   "name": "python3"
  },
  "language_info": {
   "codemirror_mode": {
    "name": "ipython",
    "version": 3
   },
   "file_extension": ".py",
   "mimetype": "text/x-python",
   "name": "python",
   "nbconvert_exporter": "python",
   "pygments_lexer": "ipython3",
   "version": "3.6.10"
  }
 },
 "nbformat": 4,
 "nbformat_minor": 4
}
