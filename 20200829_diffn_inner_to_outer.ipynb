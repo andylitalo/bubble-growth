{
 "cells": [
  {
   "cell_type": "markdown",
   "metadata": {},
   "source": [
    "# Modeling Diffusion from Inner Stream to Outer Stream\n",
    "\n",
    "We again look at video `v360_co2_8987_017_050_0200_94_295_04_7.mp4` from August 29, 2020, this time modeling the diffusion of CO2 from the polyol-CO2 inner stream to the pure-polyol outer stream. "
   ]
  },
  {
   "cell_type": "code",
   "execution_count": 24,
   "metadata": {},
   "outputs": [],
   "source": [
    "# adds custom libraries to path\n",
    "import sys\n",
    "sys.path.append('../libs/')\n",
    "\n",
    "# imports standard libraries\n",
    "\n",
    "# imports custom libraries\n",
    "import polyco2\n",
    "\n",
    "from importlib import reload\n",
    "reload(polyco2)\n",
    "\n",
    "\n",
    "\n",
    "# load data (interfacial tension, solubility, and diffusivity) for polyols? we don't have data for VORANOL 360...use 1k3f\n",
    "polyol_data_file = '1k3f_22c.csv'"
   ]
  },
  {
   "cell_type": "code",
   "execution_count": 25,
   "metadata": {},
   "outputs": [
    {
     "name": "stdout",
     "output_type": "stream",
     "text": [
      "[236469.59296294]\n",
      "[10.]\n",
      "[282716.16621086]\n",
      "[12.]\n",
      "[3.55568082e-10]\n",
      "[3.61241865e-10]\n",
      "10\n",
      "12\n"
     ]
    },
    {
     "data": {
      "text/plain": [
       "array([2.83689157e-12])"
      ]
     },
     "execution_count": 25,
     "metadata": {},
     "output_type": "execute_result"
    }
   ],
   "source": [
    "polyco2.calc_dDdc(10, 2, polyol_data_file)"
   ]
  },
  {
   "cell_type": "code",
   "execution_count": 26,
   "metadata": {},
   "outputs": [
    {
     "name": "stdout",
     "output_type": "stream",
     "text": [
      "[-110668.82734069]\n",
      "[0.]\n",
      "3.3899999999999997e-10\n",
      "[120853.15984313]\n",
      "[5.]\n",
      "[3.41383624e-10]\n",
      "[236469.59296294]\n",
      "[10.]\n",
      "[3.55568082e-10]\n",
      "[467702.45920255]\n",
      "[20.]\n",
      "[3.83936997e-10]\n",
      "[1142384.51403147]\n",
      "[50.]\n",
      "[4.7696168e-10]\n",
      "[2149056.94390881]\n",
      "[100.]\n",
      "[6.81050335e-10]\n",
      "[3782390.67850709]\n",
      "[200.]\n",
      "[2.35055197e-09]\n",
      "[7236131.98426047]\n",
      "[400.]\n",
      "[2.349725e-08]\n",
      "[76372881.69026399]\n",
      "[688.88124484]\n",
      "2.3497250000000002e-08\n",
      "[59109919.74038503]\n",
      "[688.88124484]\n",
      "2.3497250000000002e-08\n"
     ]
    }
   ],
   "source": [
    "for c in [1, 5, 10, 20, 50, 100, 200, 400, 1000, 2000]:\n",
    "    print(polyco2.calc_D_of_c(c, polyol_data_file))"
   ]
  },
  {
   "cell_type": "code",
   "execution_count": 23,
   "metadata": {},
   "outputs": [
    {
     "data": {
      "text/plain": [
       "214.1037287755792"
      ]
     },
     "execution_count": 23,
     "metadata": {},
     "output_type": "execute_result"
    }
   ],
   "source": [
    "polyco2.calc_c_s(4E6, polyol_data_file)"
   ]
  },
  {
   "cell_type": "code",
   "execution_count": null,
   "metadata": {},
   "outputs": [],
   "source": []
  }
 ],
 "metadata": {
  "kernelspec": {
   "display_name": "Python 3",
   "language": "python",
   "name": "python3"
  },
  "language_info": {
   "codemirror_mode": {
    "name": "ipython",
    "version": 3
   },
   "file_extension": ".py",
   "mimetype": "text/x-python",
   "name": "python",
   "nbconvert_exporter": "python",
   "pygments_lexer": "ipython3",
   "version": "3.6.10"
  }
 },
 "nbformat": 4,
 "nbformat_minor": 4
}
