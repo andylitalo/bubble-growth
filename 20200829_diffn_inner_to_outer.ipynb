{
 "cells": [
  {
   "cell_type": "markdown",
   "metadata": {},
   "source": [
    "# Modeling Diffusion from Inner Stream to Outer Stream\n",
    "\n",
    "We again look at video `v360_co2_8987_017_050_0200_94_295_04_7.mp4` from August 29, 2020, this time modeling the diffusion of CO2 from the polyol-CO2 inner stream to the pure-polyol outer stream. "
   ]
  },
  {
   "cell_type": "code",
   "execution_count": 81,
   "metadata": {},
   "outputs": [],
   "source": [
    "# adds custom libraries to path\n",
    "import sys\n",
    "sys.path.append('../libs/')\n",
    "\n",
    "# imports standard libraries\n",
    "import numpy as np\n",
    "import matplotlib.pyplot as plt\n",
    "\n",
    "# imports custom libraries\n",
    "import polyco2\n",
    "import diffn\n",
    "import flow\n",
    "\n",
    "from importlib import reload\n",
    "reload(polyco2)\n",
    "reload(diffn)\n",
    "\n",
    "\n",
    "# flow parameters\n",
    "# viscosity of inner and outer streams [Pa.s]\n",
    "eta_i = 0.25 # rough estimate of VORANOL 360 + CO2 dissolved so should be lower\n",
    "eta_o = 4.815\n",
    "# length of observation capillary [m]\n",
    "L = 10E-2\n",
    "# outer stream radius [m]\n",
    "R_o = 150E-6\n",
    "Q_o = 200/60E9 # outer stream flow rate, input to ISCO 260 D [m^3/s]\n",
    "Q_i = 50/60E9 # inner stream flow rate, input to ISCO 100 DM [m^3/s]\n",
    "p_s = 80E5 # saturation pressure of CO2 in VORANOL 360 [Pa]\n",
    "\n",
    "# grid parameters\n",
    "r_min = 0 # [m]\n",
    "r_max = 150E-6 # outer radius [m]\n",
    "N = 100 # number of grid spacings \n",
    "# computes mesh [m]\n",
    "r_arr = np.linspace(r_min, r_max, N+1)\n",
    "\n",
    "# diffusion model parameters \n",
    "dt = 10E-3 # time step [s]\n",
    "t_f = 400E-3 # final time [s]\n",
    "dcdt_fn = diffn.calc_dcdt_cyl\n",
    "bc_specs_list = [(diffn.neumann, 0, 1, 0, r_arr), (diffn.dirichlet, -1, 0)]\n",
    "dc_c_s_frac = 0.01 # step size in concentration for estimating dD/dc as a fraction of saturation concentration\n",
    "\n",
    "# load data (interfacial tension, solubility, and diffusivity) for polyols? we don't have data for VORANOL 360...use 1k3f\n",
    "polyol_data_file = '1k3f_22c.csv'\n",
    "\n",
    "# CONVERSIONS\n",
    "s_2_ms = 1E3"
   ]
  },
  {
   "cell_type": "markdown",
   "metadata": {},
   "source": [
    "### Set Initial Concentration Profile\n",
    "\n",
    "We assume saturation in the inner stream up to the inner radius and no CO2 in the outer stream."
   ]
  },
  {
   "cell_type": "code",
   "execution_count": 82,
   "metadata": {},
   "outputs": [],
   "source": [
    "# computes properties of flow in observation capillary\n",
    "_, R_i, _ = flow.get_dp_R_i_v_max(eta_i, eta_o, L, Q_i, Q_o, R_o, SI=True)\n",
    "\n",
    "# creates initial concentration profile [kg CO2 / m^3 polyol-CO2]\n",
    "c_0 = np.zeros([N+1])\n",
    "c_s = polyco2.calc_c_s(p_s, polyol_data_file)\n",
    "c_0[r_arr <= R_i] = c_s\n",
    "dc = c_s*dc_c_s_frac"
   ]
  },
  {
   "cell_type": "markdown",
   "metadata": {},
   "source": [
    "### Compute Diffusion of CO2 from Inner to Outer Stream"
   ]
  },
  {
   "cell_type": "code",
   "execution_count": null,
   "metadata": {
    "scrolled": true
   },
   "outputs": [],
   "source": [
    "reload(polyco2)\n",
    "reload(diffn)\n",
    "\n",
    "t, c = diffn.go(dt, t_f, r_arr, list(c_0), dcdt_fn, bc_specs_list, dc, polyol_data_file)"
   ]
  },
  {
   "cell_type": "markdown",
   "metadata": {},
   "source": [
    "### Plot Results"
   ]
  },
  {
   "cell_type": "code",
   "execution_count": 59,
   "metadata": {},
   "outputs": [
    {
     "ename": "NameError",
     "evalue": "name 't' is not defined",
     "output_type": "error",
     "traceback": [
      "\u001b[1;31m---------------------------------------------------------------------------\u001b[0m",
      "\u001b[1;31mNameError\u001b[0m                                 Traceback (most recent call last)",
      "\u001b[1;32m<ipython-input-59-64960f2584b3>\u001b[0m in \u001b[0;36m<module>\u001b[1;34m\u001b[0m\n\u001b[0;32m      5\u001b[0m \u001b[1;31m# plot desired concentration profiles\u001b[0m\u001b[1;33m\u001b[0m\u001b[1;33m\u001b[0m\u001b[1;33m\u001b[0m\u001b[0m\n\u001b[0;32m      6\u001b[0m \u001b[0mn_plot\u001b[0m \u001b[1;33m=\u001b[0m \u001b[1;36m3\u001b[0m\u001b[1;33m\u001b[0m\u001b[1;33m\u001b[0m\u001b[0m\n\u001b[1;32m----> 7\u001b[1;33m \u001b[0mn_steps\u001b[0m \u001b[1;33m=\u001b[0m \u001b[0mlen\u001b[0m\u001b[1;33m(\u001b[0m\u001b[0mt\u001b[0m\u001b[1;33m)\u001b[0m\u001b[1;33m\u001b[0m\u001b[1;33m\u001b[0m\u001b[0m\n\u001b[0m\u001b[0;32m      8\u001b[0m \u001b[0mskip\u001b[0m \u001b[1;33m=\u001b[0m \u001b[0mint\u001b[0m\u001b[1;33m(\u001b[0m\u001b[0mn_steps\u001b[0m \u001b[1;33m/\u001b[0m \u001b[0mn_plot\u001b[0m\u001b[1;33m)\u001b[0m\u001b[1;33m\u001b[0m\u001b[1;33m\u001b[0m\u001b[0m\n\u001b[0;32m      9\u001b[0m \u001b[1;33m\u001b[0m\u001b[0m\n",
      "\u001b[1;31mNameError\u001b[0m: name 't' is not defined"
     ]
    },
    {
     "data": {
      "image/png": "[encoded data removed]",
      "text/plain": [
       "<Figure size 432x288 with 1 Axes>"
      ]
     },
     "metadata": {
      "needs_background": "light"
     },
     "output_type": "display_data"
    }
   ],
   "source": [
    "# initializes plot\n",
    "fig = plt.figure()\n",
    "ax = fig.add_subplot(111)\n",
    "\n",
    "# plot desired concentration profiles\n",
    "n_plot = 3\n",
    "n_steps = len(t)\n",
    "skip = int(n_steps / n_plot)\n",
    "\n",
    "for i in range(0, n_steps, skip):\n",
    "    ax.plot(r_arr, c[i], label='t = {0:.1f} ms'.format(t[i]*s_2_ms))"
   ]
  },
  {
   "cell_type": "code",
   "execution_count": 63,
   "metadata": {},
   "outputs": [
    {
     "data": {
      "text/plain": [
       "[1, 2, 3]"
      ]
     },
     "execution_count": 63,
     "metadata": {},
     "output_type": "execute_result"
    }
   ],
   "source": [
    "[a for a in np.array([1,2,3])]"
   ]
  },
  {
   "cell_type": "code",
   "execution_count": null,
   "metadata": {},
   "outputs": [],
   "source": []
  }
 ],
 "metadata": {
  "kernelspec": {
   "display_name": "Python 3",
   "language": "python",
   "name": "python3"
  },
  "language_info": {
   "codemirror_mode": {
    "name": "ipython",
    "version": 3
   },
   "file_extension": ".py",
   "mimetype": "text/x-python",
   "name": "python",
   "nbconvert_exporter": "python",
   "pygments_lexer": "ipython3",
   "version": "3.6.10"
  }
 },
 "nbformat": 4,
 "nbformat_minor": 4
}
