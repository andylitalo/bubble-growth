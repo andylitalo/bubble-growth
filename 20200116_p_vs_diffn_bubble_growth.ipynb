{
 "cells": [
  {
   "cell_type": "markdown",
   "metadata": {},
   "source": [
    "# Comparing Bubble Growth Due to Pressure Drop and Due to Diffusion\n",
    "\n",
    "In our Dow UPI biweekly meeting on 1/13/20, a discussion arose posing the question of whether the bubble growth due to diffusion of CO2 is important relative to that due to the pressure drop after nucleation. Clearly the pressure drop is most important by the time the pressure drops to atmosphere due to the tremendous factor by which the pressure decreases, but partway through the channel this might not be the case. Below we compare"
   ]
  },
  {
   "cell_type": "markdown",
   "metadata": {},
   "source": [
    "We first consider the amount of volume change due to diffusion. If we assume a diffusivity of CO2 in polyol of $D$ and a time in the channel of $\\tau$, the diffusion length scale is $l = \\sqrt{D*\\tau}$. Thus, we can approximate the amount of CO2 that diffuses into the bubble as the amount dissolved in the volume of the layer $l$ away from the surface of the bubble. Assuming a bubble radius $R$, which we assume to be constant at the final value to get an upper bound on the result, this volume is $V_{diffn} \\approx 4\\pi R^2 l$, assuming $l \\ll R$. The mass density of CO2 in this volume is then $\\rho_{CO2} = w_{CO2} \\rho_{liq}$, where $w_{CO2}$ is mass fraction of CO2 in the parent phase and $\\rho_{liq}$ is the mass density of the liquid phase. Within an order of magnitude, we estimate the number of moles of CO2 that diffuse into the bubble to be $n_{diffn} = \\frac{\\rho_{CO2}V_{diffn}}{MW_{CO2}}$. The fractional increase in volume can be estimate as \n",
    "\n",
    "\\begin{align}\n",
    "    \\frac{V_f}{V_0} - 1 &\\sim \\frac{n_{diffn}}{n_0}\\\\\n",
    "\\end{align}\n",
    "\n",
    "where $n_0$ is the amount of moles of CO2 in the bubble neglecting diffusion. This can be approximated using the ideal gas law,\n",
    "\n",
    "\\begin{align}\n",
    "    n_0 &\\approx \\frac{p V}{R_G T} \\\\\n",
    "    &= \\frac{p \\left(\\frac{4}{3}\\pi R^3\\right)}{R_G T}\\\\\n",
    "\\end{align}\n",
    "\n",
    "From these equations, the fractional increase in volume can be estimated. We use the following values based on the observations of CO2 bubbles in videos shown in the Powerpoint `20200113_80bar_bubbles.ppt` shown at the Dow meeting, and using known properties measured at the Di Maio lab in summer 2019 and from Dr. Jacob Crosthwaite at Dow Midland.\n",
    "\n",
    "\\begin{align}\n",
    "    R &\\approx 100~\\mu\\text{m}\\\\\n",
    "    D &\\sim 10^{-6}~\\text{cm}^2/s\\\\\n",
    "    \\tau &\\approx 0.2~s \\qquad \\text{partway down tube; full tube takes 0.5 s}\\\\\n",
    "    w_{CO2} &\\approx 0.4 \\qquad \\text{for VORANOL 360 at room temp., Dow data, 64 bar saturation}\\\\\n",
    "    \\rho_{liq} &\\approx 1.1~g/mL \\qquad \\text{VORANOL 360 + CO2}\\\\\n",
    "    MW_{CO2} &= 44.01~g/mol\\\\\n",
    "    p &= 44~bar \\qquad \\text{use the 3rd snapshot from slide 11}\\\\\n",
    "    R_G &= 8.314~J/mol.K\\\\\n",
    "    T &= 298~K\\\\\n",
    "\\end{align}\n",
    "\n",
    "The result is calculated below."
   ]
  },
  {
   "cell_type": "code",
   "execution_count": 7,
   "metadata": {},
   "outputs": [
    {
     "name": "stdout",
     "output_type": "stream",
     "text": [
      "The volume grows by a factor of 0.755457, which amounts to an increase of 3164451.687784 um^3.\n"
     ]
    }
   ],
   "source": [
    "import numpy as np\n",
    "\n",
    "R = 100E-6 #[m]\n",
    "D = 1E-10 # [m^2/s]\n",
    "tau = 0.2 # [s]\n",
    "w_co2 = 0.4 # [w/w]\n",
    "rho_liq = 1100 # [kg/m^3]\n",
    "mw_co2 = 0.044 # [kg/mol]\n",
    "p = 44E5 # [Pa]\n",
    "Rg = 8.314 # [J/mol.K]\n",
    "T = 298 # [K]\n",
    "\n",
    "l = np.sqrt(D*tau) # [m]\n",
    "V_0 = 4/3*np.pi*R**3 # [m^3] \n",
    "V_diffn = 4*np.pi*R**2*l # [m^3]\n",
    "rho_co2 = w_co2*rho_liq # [kg/m^3]\n",
    "n_diffn = rho_co2*V_diffn/mw_co2 # [mol]\n",
    "n_0 = p*V_0/(Rg*T) # [mol]\n",
    "V_growth_frac_diffn = n_diffn/n_0 \n",
    "V_growth_diffn = V_0*V_growth_frac_diffn*1E18\n",
    "print(\"The volume grows by a factor of {0:f}, which amounts to an increase of {1:f} um^3.\".format(V_growth_frac_diffn,\n",
    "                                                                                                  V_growth_diffn))"
   ]
  },
  {
   "cell_type": "markdown",
   "metadata": {},
   "source": [
    "This value is not small. Now let's consider the growth due to pressure.\n",
    "\n",
    "The initial radius of the nuclei is around 5 nm. If it nucleates at pressure $p_{nucl}$, at pressure $p$ the volume should increase by a factor of roughly $p_{nucl}/p$ by the ideal gas law. For the nucleation pressure, we estimate $p_{nucl} = 58$ bar because we first saw bubbles at 58 bar. This will be an underestimate."
   ]
  },
  {
   "cell_type": "code",
   "execution_count": 9,
   "metadata": {},
   "outputs": [
    {
     "name": "stdout",
     "output_type": "stream",
     "text": [
      "The volume grows by a factor of 1.318182, which amounts to an increase of 5521587.088128 um^3.\n"
     ]
    }
   ],
   "source": [
    "p_nucl = 58E5 # [bar], ass\n",
    "V_growth_frac_p = p_nucl / p\n",
    "V_growth_p = V_0*V_growth_frac_p*1E18\n",
    "\n",
    "print(\"The volume grows by a factor of {0:f}, which amounts to an increase of {1:f} um^3.\".format(V_growth_frac_p,\n",
    "                                                                                                  V_growth_p))"
   ]
  },
  {
   "cell_type": "markdown",
   "metadata": {},
   "source": [
    "At this given point down the nucleation pathway when the bubbles first become visible, the contributions are similar. We probably underestimated the growth due to the pressure drop and overestimated that due to diffusion, but at least we know that they are not more than an order of magnitude different."
   ]
  }
 ],
 "metadata": {
  "kernelspec": {
   "display_name": "Python 3",
   "language": "python",
   "name": "python3"
  },
  "language_info": {
   "codemirror_mode": {
    "name": "ipython",
    "version": 3
   },
   "file_extension": ".py",
   "mimetype": "text/x-python",
   "name": "python",
   "nbconvert_exporter": "python",
   "pygments_lexer": "ipython3",
   "version": "3.6.5"
  }
 },
 "nbformat": 4,
 "nbformat_minor": 2
}
