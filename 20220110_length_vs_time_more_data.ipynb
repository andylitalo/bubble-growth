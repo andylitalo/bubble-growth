{
 "cells": [
  {
   "cell_type": "markdown",
   "metadata": {},
   "source": [
    "# Analyzing Length vs. Time of Elongated Bubbles: More Data\n",
    "\n",
    "Previously, I did exploratory data analysis (EDA) on the length vs. time of elongated bubbles from a few videos in `20220110_length_vs_time_eda.ipynb`. I found that an exponential model describes the data pretty well, but observed that some growth profiles deviated from the model. \n",
    "\n",
    "Here I will check if the exponential model can describe a larger pool of data and explore how the trends in the deviations of the data from the model. Might an exponential model describe all the data but require different parameters for different measurements? Or might it turn out that an exponential model is not the appropriate description?"
   ]
  },
  {
   "cell_type": "code",
   "execution_count": null,
   "metadata": {},
   "outputs": [],
   "source": [
    "import os\n",
    "import pickle as pkl\n",
    "import numpy as np\n",
    "import matplotlib.pyplot as plt\n",
    "\n",
    "# data parameters\n",
    "data_dir = 'input/'\n",
    "# loads data from three videos taken at different lengths along channel on July 20, 2021\n",
    "data_paths = ['ppg_co2_50000_000-7_050_0302_90_20_78/test1/data/f_0_1_34932_dist.pkl',\n",
    "             'ppg_co2_40000_001-1_050_0226_79_04_10/std/data/f_0_1_39922_dist.pkl',\n",
    "             'ppg_co2_40000_001-1_050_0226_79_04_9/std/data/f_0_1_39922_dist.pkl',\n",
    "              'ppg_co2_40000_001-1_050_0228_69_04_13/autothresh1/data/f_0_1_39922_dist.pkl',\n",
    "              ***HERE***              \n",
    "             ]\n",
    "\n",
    "# parameters for filtering out objects that are not elongated bubbles\n",
    "thresh_aspect_ratio = 3 # elongated bubbles must have minimum aspect ratio\n",
    "thresh_frames = 6 # elongated bubbles are only interesting if we observe multiple frames\n",
    "inner_stream_frac = 0.4 # fraction of inner stream width that bubble should span to be considered\n",
    "um_2_m = 1E-6"
   ]
  }
 ],
 "metadata": {
  "kernelspec": {
   "display_name": "Python 3",
   "language": "python",
   "name": "python3"
  },
  "language_info": {
   "codemirror_mode": {
    "name": "ipython",
    "version": 3
   },
   "file_extension": ".py",
   "mimetype": "text/x-python",
   "name": "python",
   "nbconvert_exporter": "python",
   "pygments_lexer": "ipython3",
   "version": "3.6.10"
  }
 },
 "nbformat": 4,
 "nbformat_minor": 4
}
